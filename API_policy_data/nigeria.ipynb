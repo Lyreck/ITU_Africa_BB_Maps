{
 "cells": [
  {
   "cell_type": "markdown",
   "id": "33064eb1",
   "metadata": {},
   "source": [
    "Notebook with visualizations focused on Nigeria.\n",
    "\n",
    "The graphs are interactive, but you can also make a screenshot. Export to png is not a built-in feature in Plotly."
   ]
  },
  {
   "cell_type": "markdown",
   "id": "e5a212fc",
   "metadata": {},
   "source": []
  },
  {
   "cell_type": "code",
   "execution_count": 13,
   "id": "10c293c6",
   "metadata": {},
   "outputs": [],
   "source": [
    "## Load files (API calls)\n",
    "import pandas as pd\n",
    "from get_ICT_regulatory_tracker import create_ICTRT_datasets\n",
    "from get_G5_benchmark import create_G5_datasets\n",
    "\n",
    "\n",
    "create_ICTRT_datasets()\n",
    "create_G5_datasets()\n",
    "\n",
    "africa_bb_maps = pd.read_csv(\"data/ICT_regulatory_tracker_2022.csv\")\n",
    "europe_countries = pd.read_csv(\"data/ICT_regulatory_tracker_Europe_2022.csv\")"
   ]
  },
  {
   "cell_type": "code",
   "execution_count": 14,
   "id": "bf430e59",
   "metadata": {},
   "outputs": [
    {
     "data": {
      "application/vnd.plotly.v1+json": {
       "config": {
        "plotlyServerURL": "https://plot.ly"
       },
       "data": [
        {
         "marker": {
          "color": "#00a3e0"
         },
         "name": "Regulatory Authority Score",
         "type": "bar",
         "x": [
          "Nigeria",
          "Africa-BB-Maps Countries",
          "Europe"
         ],
         "y": [
          19,
          16.727272727272727,
          17.282608695652176
         ]
        },
        {
         "marker": {
          "color": "#007cb9"
         },
         "name": "Regulatory Mandate Score",
         "type": "bar",
         "x": [
          "Nigeria",
          "Africa-BB-Maps Countries",
          "Europe"
         ],
         "y": [
          22,
          19.40909090909091,
          18.293478260869566
         ]
        },
        {
         "marker": {
          "color": "#33bdf2"
         },
         "name": "Regulatory Regime Score",
         "type": "bar",
         "x": [
          "Nigeria",
          "Africa-BB-Maps Countries",
          "Europe"
         ],
         "y": [
          26,
          19.09090909090909,
          26.565217391304348
         ]
        },
        {
         "marker": {
          "color": "#66d6f8"
         },
         "name": "Competition Framework Score",
         "type": "bar",
         "x": [
          "Nigeria",
          "Africa-BB-Maps Countries",
          "Europe"
         ],
         "y": [
          25,
          20.484848484845454,
          25.60144927536087
         ]
        },
        {
         "marker": {
          "color": "#b3ecfb"
         },
         "name": "Overall Score",
         "type": "bar",
         "x": [
          "Nigeria",
          "Africa-BB-Maps Countries",
          "Europe"
         ],
         "y": [
          92,
          75.71212121211819,
          87.74275362318696
         ]
        }
       ],
       "layout": {
        "barmode": "group",
        "legend": {
         "title": {
          "text": "Pillars"
         }
        },
        "template": {
         "data": {
          "bar": [
           {
            "error_x": {
             "color": "#2a3f5f"
            },
            "error_y": {
             "color": "#2a3f5f"
            },
            "marker": {
             "line": {
              "color": "white",
              "width": 0.5
             },
             "pattern": {
              "fillmode": "overlay",
              "size": 10,
              "solidity": 0.2
             }
            },
            "type": "bar"
           }
          ],
          "barpolar": [
           {
            "marker": {
             "line": {
              "color": "white",
              "width": 0.5
             },
             "pattern": {
              "fillmode": "overlay",
              "size": 10,
              "solidity": 0.2
             }
            },
            "type": "barpolar"
           }
          ],
          "carpet": [
           {
            "aaxis": {
             "endlinecolor": "#2a3f5f",
             "gridcolor": "#C8D4E3",
             "linecolor": "#C8D4E3",
             "minorgridcolor": "#C8D4E3",
             "startlinecolor": "#2a3f5f"
            },
            "baxis": {
             "endlinecolor": "#2a3f5f",
             "gridcolor": "#C8D4E3",
             "linecolor": "#C8D4E3",
             "minorgridcolor": "#C8D4E3",
             "startlinecolor": "#2a3f5f"
            },
            "type": "carpet"
           }
          ],
          "choropleth": [
           {
            "colorbar": {
             "outlinewidth": 0,
             "ticks": ""
            },
            "type": "choropleth"
           }
          ],
          "contour": [
           {
            "colorbar": {
             "outlinewidth": 0,
             "ticks": ""
            },
            "colorscale": [
             [
              0,
              "#0d0887"
             ],
             [
              0.1111111111111111,
              "#46039f"
             ],
             [
              0.2222222222222222,
              "#7201a8"
             ],
             [
              0.3333333333333333,
              "#9c179e"
             ],
             [
              0.4444444444444444,
              "#bd3786"
             ],
             [
              0.5555555555555556,
              "#d8576b"
             ],
             [
              0.6666666666666666,
              "#ed7953"
             ],
             [
              0.7777777777777778,
              "#fb9f3a"
             ],
             [
              0.8888888888888888,
              "#fdca26"
             ],
             [
              1,
              "#f0f921"
             ]
            ],
            "type": "contour"
           }
          ],
          "contourcarpet": [
           {
            "colorbar": {
             "outlinewidth": 0,
             "ticks": ""
            },
            "type": "contourcarpet"
           }
          ],
          "heatmap": [
           {
            "colorbar": {
             "outlinewidth": 0,
             "ticks": ""
            },
            "colorscale": [
             [
              0,
              "#0d0887"
             ],
             [
              0.1111111111111111,
              "#46039f"
             ],
             [
              0.2222222222222222,
              "#7201a8"
             ],
             [
              0.3333333333333333,
              "#9c179e"
             ],
             [
              0.4444444444444444,
              "#bd3786"
             ],
             [
              0.5555555555555556,
              "#d8576b"
             ],
             [
              0.6666666666666666,
              "#ed7953"
             ],
             [
              0.7777777777777778,
              "#fb9f3a"
             ],
             [
              0.8888888888888888,
              "#fdca26"
             ],
             [
              1,
              "#f0f921"
             ]
            ],
            "type": "heatmap"
           }
          ],
          "histogram": [
           {
            "marker": {
             "pattern": {
              "fillmode": "overlay",
              "size": 10,
              "solidity": 0.2
             }
            },
            "type": "histogram"
           }
          ],
          "histogram2d": [
           {
            "colorbar": {
             "outlinewidth": 0,
             "ticks": ""
            },
            "colorscale": [
             [
              0,
              "#0d0887"
             ],
             [
              0.1111111111111111,
              "#46039f"
             ],
             [
              0.2222222222222222,
              "#7201a8"
             ],
             [
              0.3333333333333333,
              "#9c179e"
             ],
             [
              0.4444444444444444,
              "#bd3786"
             ],
             [
              0.5555555555555556,
              "#d8576b"
             ],
             [
              0.6666666666666666,
              "#ed7953"
             ],
             [
              0.7777777777777778,
              "#fb9f3a"
             ],
             [
              0.8888888888888888,
              "#fdca26"
             ],
             [
              1,
              "#f0f921"
             ]
            ],
            "type": "histogram2d"
           }
          ],
          "histogram2dcontour": [
           {
            "colorbar": {
             "outlinewidth": 0,
             "ticks": ""
            },
            "colorscale": [
             [
              0,
              "#0d0887"
             ],
             [
              0.1111111111111111,
              "#46039f"
             ],
             [
              0.2222222222222222,
              "#7201a8"
             ],
             [
              0.3333333333333333,
              "#9c179e"
             ],
             [
              0.4444444444444444,
              "#bd3786"
             ],
             [
              0.5555555555555556,
              "#d8576b"
             ],
             [
              0.6666666666666666,
              "#ed7953"
             ],
             [
              0.7777777777777778,
              "#fb9f3a"
             ],
             [
              0.8888888888888888,
              "#fdca26"
             ],
             [
              1,
              "#f0f921"
             ]
            ],
            "type": "histogram2dcontour"
           }
          ],
          "mesh3d": [
           {
            "colorbar": {
             "outlinewidth": 0,
             "ticks": ""
            },
            "type": "mesh3d"
           }
          ],
          "parcoords": [
           {
            "line": {
             "colorbar": {
              "outlinewidth": 0,
              "ticks": ""
             }
            },
            "type": "parcoords"
           }
          ],
          "pie": [
           {
            "automargin": true,
            "type": "pie"
           }
          ],
          "scatter": [
           {
            "fillpattern": {
             "fillmode": "overlay",
             "size": 10,
             "solidity": 0.2
            },
            "type": "scatter"
           }
          ],
          "scatter3d": [
           {
            "line": {
             "colorbar": {
              "outlinewidth": 0,
              "ticks": ""
             }
            },
            "marker": {
             "colorbar": {
              "outlinewidth": 0,
              "ticks": ""
             }
            },
            "type": "scatter3d"
           }
          ],
          "scattercarpet": [
           {
            "marker": {
             "colorbar": {
              "outlinewidth": 0,
              "ticks": ""
             }
            },
            "type": "scattercarpet"
           }
          ],
          "scattergeo": [
           {
            "marker": {
             "colorbar": {
              "outlinewidth": 0,
              "ticks": ""
             }
            },
            "type": "scattergeo"
           }
          ],
          "scattergl": [
           {
            "marker": {
             "colorbar": {
              "outlinewidth": 0,
              "ticks": ""
             }
            },
            "type": "scattergl"
           }
          ],
          "scattermap": [
           {
            "marker": {
             "colorbar": {
              "outlinewidth": 0,
              "ticks": ""
             }
            },
            "type": "scattermap"
           }
          ],
          "scattermapbox": [
           {
            "marker": {
             "colorbar": {
              "outlinewidth": 0,
              "ticks": ""
             }
            },
            "type": "scattermapbox"
           }
          ],
          "scatterpolar": [
           {
            "marker": {
             "colorbar": {
              "outlinewidth": 0,
              "ticks": ""
             }
            },
            "type": "scatterpolar"
           }
          ],
          "scatterpolargl": [
           {
            "marker": {
             "colorbar": {
              "outlinewidth": 0,
              "ticks": ""
             }
            },
            "type": "scatterpolargl"
           }
          ],
          "scatterternary": [
           {
            "marker": {
             "colorbar": {
              "outlinewidth": 0,
              "ticks": ""
             }
            },
            "type": "scatterternary"
           }
          ],
          "surface": [
           {
            "colorbar": {
             "outlinewidth": 0,
             "ticks": ""
            },
            "colorscale": [
             [
              0,
              "#0d0887"
             ],
             [
              0.1111111111111111,
              "#46039f"
             ],
             [
              0.2222222222222222,
              "#7201a8"
             ],
             [
              0.3333333333333333,
              "#9c179e"
             ],
             [
              0.4444444444444444,
              "#bd3786"
             ],
             [
              0.5555555555555556,
              "#d8576b"
             ],
             [
              0.6666666666666666,
              "#ed7953"
             ],
             [
              0.7777777777777778,
              "#fb9f3a"
             ],
             [
              0.8888888888888888,
              "#fdca26"
             ],
             [
              1,
              "#f0f921"
             ]
            ],
            "type": "surface"
           }
          ],
          "table": [
           {
            "cells": {
             "fill": {
              "color": "#EBF0F8"
             },
             "line": {
              "color": "white"
             }
            },
            "header": {
             "fill": {
              "color": "#C8D4E3"
             },
             "line": {
              "color": "white"
             }
            },
            "type": "table"
           }
          ]
         },
         "layout": {
          "annotationdefaults": {
           "arrowcolor": "#2a3f5f",
           "arrowhead": 0,
           "arrowwidth": 1
          },
          "autotypenumbers": "strict",
          "coloraxis": {
           "colorbar": {
            "outlinewidth": 0,
            "ticks": ""
           }
          },
          "colorscale": {
           "diverging": [
            [
             0,
             "#8e0152"
            ],
            [
             0.1,
             "#c51b7d"
            ],
            [
             0.2,
             "#de77ae"
            ],
            [
             0.3,
             "#f1b6da"
            ],
            [
             0.4,
             "#fde0ef"
            ],
            [
             0.5,
             "#f7f7f7"
            ],
            [
             0.6,
             "#e6f5d0"
            ],
            [
             0.7,
             "#b8e186"
            ],
            [
             0.8,
             "#7fbc41"
            ],
            [
             0.9,
             "#4d9221"
            ],
            [
             1,
             "#276419"
            ]
           ],
           "sequential": [
            [
             0,
             "#0d0887"
            ],
            [
             0.1111111111111111,
             "#46039f"
            ],
            [
             0.2222222222222222,
             "#7201a8"
            ],
            [
             0.3333333333333333,
             "#9c179e"
            ],
            [
             0.4444444444444444,
             "#bd3786"
            ],
            [
             0.5555555555555556,
             "#d8576b"
            ],
            [
             0.6666666666666666,
             "#ed7953"
            ],
            [
             0.7777777777777778,
             "#fb9f3a"
            ],
            [
             0.8888888888888888,
             "#fdca26"
            ],
            [
             1,
             "#f0f921"
            ]
           ],
           "sequentialminus": [
            [
             0,
             "#0d0887"
            ],
            [
             0.1111111111111111,
             "#46039f"
            ],
            [
             0.2222222222222222,
             "#7201a8"
            ],
            [
             0.3333333333333333,
             "#9c179e"
            ],
            [
             0.4444444444444444,
             "#bd3786"
            ],
            [
             0.5555555555555556,
             "#d8576b"
            ],
            [
             0.6666666666666666,
             "#ed7953"
            ],
            [
             0.7777777777777778,
             "#fb9f3a"
            ],
            [
             0.8888888888888888,
             "#fdca26"
            ],
            [
             1,
             "#f0f921"
            ]
           ]
          },
          "colorway": [
           "#636efa",
           "#EF553B",
           "#00cc96",
           "#ab63fa",
           "#FFA15A",
           "#19d3f3",
           "#FF6692",
           "#B6E880",
           "#FF97FF",
           "#FECB52"
          ],
          "font": {
           "color": "#2a3f5f"
          },
          "geo": {
           "bgcolor": "white",
           "lakecolor": "white",
           "landcolor": "white",
           "showlakes": true,
           "showland": true,
           "subunitcolor": "#C8D4E3"
          },
          "hoverlabel": {
           "align": "left"
          },
          "hovermode": "closest",
          "mapbox": {
           "style": "light"
          },
          "paper_bgcolor": "white",
          "plot_bgcolor": "white",
          "polar": {
           "angularaxis": {
            "gridcolor": "#EBF0F8",
            "linecolor": "#EBF0F8",
            "ticks": ""
           },
           "bgcolor": "white",
           "radialaxis": {
            "gridcolor": "#EBF0F8",
            "linecolor": "#EBF0F8",
            "ticks": ""
           }
          },
          "scene": {
           "xaxis": {
            "backgroundcolor": "white",
            "gridcolor": "#DFE8F3",
            "gridwidth": 2,
            "linecolor": "#EBF0F8",
            "showbackground": true,
            "ticks": "",
            "zerolinecolor": "#EBF0F8"
           },
           "yaxis": {
            "backgroundcolor": "white",
            "gridcolor": "#DFE8F3",
            "gridwidth": 2,
            "linecolor": "#EBF0F8",
            "showbackground": true,
            "ticks": "",
            "zerolinecolor": "#EBF0F8"
           },
           "zaxis": {
            "backgroundcolor": "white",
            "gridcolor": "#DFE8F3",
            "gridwidth": 2,
            "linecolor": "#EBF0F8",
            "showbackground": true,
            "ticks": "",
            "zerolinecolor": "#EBF0F8"
           }
          },
          "shapedefaults": {
           "line": {
            "color": "#2a3f5f"
           }
          },
          "ternary": {
           "aaxis": {
            "gridcolor": "#DFE8F3",
            "linecolor": "#A2B1C6",
            "ticks": ""
           },
           "baxis": {
            "gridcolor": "#DFE8F3",
            "linecolor": "#A2B1C6",
            "ticks": ""
           },
           "bgcolor": "white",
           "caxis": {
            "gridcolor": "#DFE8F3",
            "linecolor": "#A2B1C6",
            "ticks": ""
           }
          },
          "title": {
           "x": 0.05
          },
          "xaxis": {
           "automargin": true,
           "gridcolor": "#EBF0F8",
           "linecolor": "#EBF0F8",
           "ticks": "",
           "title": {
            "standoff": 15
           },
           "zerolinecolor": "#EBF0F8",
           "zerolinewidth": 2
          },
          "yaxis": {
           "automargin": true,
           "gridcolor": "#EBF0F8",
           "linecolor": "#EBF0F8",
           "ticks": "",
           "title": {
            "standoff": 15
           },
           "zerolinecolor": "#EBF0F8",
           "zerolinewidth": 2
          }
         }
        },
        "title": {
         "text": "G5 Benchmark - Regional improvement by pillar"
        },
        "xaxis": {
         "title": {
          "text": "Region"
         }
        },
        "yaxis": {
         "tickformat": "%",
         "title": {
          "text": "Improvement (%)"
         }
        }
       }
      }
     },
     "metadata": {},
     "output_type": "display_data"
    }
   ],
   "source": [
    "# Score in pillars of ICT Regulatory Tracker: Nigeria vs. Africa-BB-Maps vs. World\n",
    "import plotly.graph_objects as go\n",
    "\n",
    "# Example data (replace with your own)\n",
    "regions = [\"Nigeria\", \"Africa-BB-Maps Countries\", \"Europe\"]\n",
    "\n",
    "\n",
    "regulatoryAuthorityScore = [africa_bb_maps[africa_bb_maps[\"country\"]==\"Nigeria\"][\"regulatoryAuthorityScore\"].values[0], africa_bb_maps[\"regulatoryAuthorityScore\"].mean(), europe_countries[\"regulatoryAuthorityScore\"].mean()]\n",
    "regulatoryMandateScore = [africa_bb_maps[africa_bb_maps[\"country\"]==\"Nigeria\"][\"regulatoryMandateScore\"].values[0], africa_bb_maps[\"regulatoryMandateScore\"].mean(), europe_countries[\"regulatoryMandateScore\"].mean()]\n",
    "regulatoryRegimeScore = [africa_bb_maps[africa_bb_maps[\"country\"]==\"Nigeria\"][\"regulatoryRegimeScore\"].values[0], africa_bb_maps[\"regulatoryRegimeScore\"].mean(), europe_countries[\"regulatoryRegimeScore\"].mean()]\n",
    "competitionFrameworkScore = [africa_bb_maps[africa_bb_maps[\"country\"]==\"Nigeria\"][\"competitionFrameworkScore\"].values[0], africa_bb_maps[\"competitionFrameworkScore\"].mean(), europe_countries[\"competitionFrameworkScore\"].mean()]\n",
    "overallScore = [africa_bb_maps[africa_bb_maps[\"country\"]==\"Nigeria\"][\"overallScore\"].values[0], africa_bb_maps[\"overallScore\"].mean(), europe_countries[\"overallScore\"].mean()]\n",
    "\n",
    "# Custom ITU-blue-based colors\n",
    "colors = [\"#00a3e0\", \"#007cb9\", \"#33bdf2\", \"#66d6f8\", \"#b3ecfb\"]\n",
    "\n",
    "\n",
    "# Create figure\n",
    "fig = go.Figure(data=[\n",
    "    go.Bar(name='Regulatory Authority Score', x=regions, y=regulatoryAuthorityScore, marker_color=colors[0]),\n",
    "    go.Bar(name='Regulatory Mandate Score', x=regions, y=regulatoryMandateScore, marker_color=colors[1]),\n",
    "    go.Bar(name='Regulatory Regime Score', x=regions, y=regulatoryRegimeScore, marker_color=colors[2]),\n",
    "    go.Bar(name='Competition Framework Score', x=regions, y=competitionFrameworkScore, marker_color=colors[3]),\n",
    "    go.Bar(name='Overall Score', x=regions, y=overallScore, marker_color=colors[4])\n",
    "])\n",
    "\n",
    "# # Update layout\n",
    "# fig.update_layout(\n",
    "#     barmode='group',\n",
    "#     title='G5 Benchmark - Regional improvement by pillar',\n",
    "#     xaxis_title='Region',\n",
    "#     yaxis_title='Improvement (%)',\n",
    "#     legend_title='Pillars',\n",
    "#     yaxis=dict(tickformat='%')\n",
    "# )\n",
    "\n",
    "# Update layout\n",
    "fig.update_layout(\n",
    "    barmode='group',\n",
    "    title='G5 Benchmark - Regional improvement by pillar',\n",
    "    xaxis_title='Region',\n",
    "    yaxis_title='Improvement (%)',\n",
    "    legend_title='Pillars',\n",
    "    yaxis=dict(tickformat='%'),\n",
    "    template='plotly_white'\n",
    ")\n",
    "\n",
    "# Show figure\n",
    "# fig.show()\n"
   ]
  },
  {
   "cell_type": "markdown",
   "id": "d37945e4",
   "metadata": {},
   "source": [
    "I personaly prefer Nigeria vs ABBMAPS vs Europe. (see following graph)"
   ]
  },
  {
   "cell_type": "code",
   "execution_count": 15,
   "id": "e25c35a4",
   "metadata": {},
   "outputs": [
    {
     "data": {
      "application/vnd.plotly.v1+json": {
       "config": {
        "plotlyServerURL": "https://plot.ly"
       },
       "data": [
        {
         "alignmentgroup": "True",
         "hovertemplate": "Region=Nigeria<br>Pillar=%{x}<br>Score=%{y}<extra></extra>",
         "legendgroup": "Nigeria",
         "marker": {
          "color": "#004479",
          "pattern": {
           "shape": ""
          }
         },
         "name": "Nigeria",
         "offsetgroup": "Nigeria",
         "orientation": "v",
         "showlegend": true,
         "textposition": "auto",
         "type": "bar",
         "x": [
          "regulatoryAuthorityScore",
          "regulatoryMandateScore",
          "regulatoryRegimeScore",
          "competitionFrameworkScore",
          "overallScore"
         ],
         "xaxis": "x",
         "y": {
          "bdata": "AAAAAAAAM0AAAAAAAAA2QAAAAAAAADpAAAAAAAAAOUAAAAAAAABXQA==",
          "dtype": "f8"
         },
         "yaxis": "y"
        },
        {
         "alignmentgroup": "True",
         "hovertemplate": "Region=Africa-BB-Maps Countries<br>Pillar=%{x}<br>Score=%{y}<extra></extra>",
         "legendgroup": "Africa-BB-Maps Countries",
         "marker": {
          "color": "#00a3e0",
          "pattern": {
           "shape": ""
          }
         },
         "name": "Africa-BB-Maps Countries",
         "offsetgroup": "Africa-BB-Maps Countries",
         "orientation": "v",
         "showlegend": true,
         "textposition": "auto",
         "type": "bar",
         "x": [
          "regulatoryAuthorityScore",
          "regulatoryMandateScore",
          "regulatoryRegimeScore",
          "competitionFrameworkScore",
          "overallScore"
         ],
         "xaxis": "x",
         "y": {
          "bdata": "uuiiiy66MEDpoosuumgzQBdddNFFFzNAJ+3BBx98NEB5Ndlkk+1SQA==",
          "dtype": "f8"
         },
         "yaxis": "y"
        },
        {
         "alignmentgroup": "True",
         "hovertemplate": "Region=Europe<br>Pillar=%{x}<br>Score=%{y}<extra></extra>",
         "legendgroup": "Europe",
         "marker": {
          "color": "#c9c9c9",
          "pattern": {
           "shape": ""
          }
         },
         "name": "Europe",
         "offsetgroup": "Europe",
         "orientation": "v",
         "showlegend": true,
         "textposition": "auto",
         "type": "bar",
         "x": [
          "regulatoryAuthorityScore",
          "regulatoryMandateScore",
          "regulatoryRegimeScore",
          "competitionFrameworkScore",
          "overallScore"
         ],
         "xaxis": "x",
         "y": {
          "bdata": "LWQhC1lIMUCRhSxkIUsyQFnIQhaykDpAuuBnlPiZOUC0JH5Gie9VQA==",
          "dtype": "f8"
         },
         "yaxis": "y"
        }
       ],
       "layout": {
        "barmode": "group",
        "legend": {
         "title": {
          "text": "Region"
         },
         "tracegroupgap": 0
        },
        "margin": {
         "t": 60
        },
        "paper_bgcolor": "rgba(0, 0, 0, 0)",
        "plot_bgcolor": "rgba(0, 0, 0, 0)",
        "template": {
         "data": {
          "bar": [
           {
            "error_x": {
             "color": "#2a3f5f"
            },
            "error_y": {
             "color": "#2a3f5f"
            },
            "marker": {
             "line": {
              "color": "#E5ECF6",
              "width": 0.5
             },
             "pattern": {
              "fillmode": "overlay",
              "size": 10,
              "solidity": 0.2
             }
            },
            "type": "bar"
           }
          ],
          "barpolar": [
           {
            "marker": {
             "line": {
              "color": "#E5ECF6",
              "width": 0.5
             },
             "pattern": {
              "fillmode": "overlay",
              "size": 10,
              "solidity": 0.2
             }
            },
            "type": "barpolar"
           }
          ],
          "carpet": [
           {
            "aaxis": {
             "endlinecolor": "#2a3f5f",
             "gridcolor": "white",
             "linecolor": "white",
             "minorgridcolor": "white",
             "startlinecolor": "#2a3f5f"
            },
            "baxis": {
             "endlinecolor": "#2a3f5f",
             "gridcolor": "white",
             "linecolor": "white",
             "minorgridcolor": "white",
             "startlinecolor": "#2a3f5f"
            },
            "type": "carpet"
           }
          ],
          "choropleth": [
           {
            "colorbar": {
             "outlinewidth": 0,
             "ticks": ""
            },
            "type": "choropleth"
           }
          ],
          "contour": [
           {
            "colorbar": {
             "outlinewidth": 0,
             "ticks": ""
            },
            "colorscale": [
             [
              0,
              "#0d0887"
             ],
             [
              0.1111111111111111,
              "#46039f"
             ],
             [
              0.2222222222222222,
              "#7201a8"
             ],
             [
              0.3333333333333333,
              "#9c179e"
             ],
             [
              0.4444444444444444,
              "#bd3786"
             ],
             [
              0.5555555555555556,
              "#d8576b"
             ],
             [
              0.6666666666666666,
              "#ed7953"
             ],
             [
              0.7777777777777778,
              "#fb9f3a"
             ],
             [
              0.8888888888888888,
              "#fdca26"
             ],
             [
              1,
              "#f0f921"
             ]
            ],
            "type": "contour"
           }
          ],
          "contourcarpet": [
           {
            "colorbar": {
             "outlinewidth": 0,
             "ticks": ""
            },
            "type": "contourcarpet"
           }
          ],
          "heatmap": [
           {
            "colorbar": {
             "outlinewidth": 0,
             "ticks": ""
            },
            "colorscale": [
             [
              0,
              "#0d0887"
             ],
             [
              0.1111111111111111,
              "#46039f"
             ],
             [
              0.2222222222222222,
              "#7201a8"
             ],
             [
              0.3333333333333333,
              "#9c179e"
             ],
             [
              0.4444444444444444,
              "#bd3786"
             ],
             [
              0.5555555555555556,
              "#d8576b"
             ],
             [
              0.6666666666666666,
              "#ed7953"
             ],
             [
              0.7777777777777778,
              "#fb9f3a"
             ],
             [
              0.8888888888888888,
              "#fdca26"
             ],
             [
              1,
              "#f0f921"
             ]
            ],
            "type": "heatmap"
           }
          ],
          "histogram": [
           {
            "marker": {
             "pattern": {
              "fillmode": "overlay",
              "size": 10,
              "solidity": 0.2
             }
            },
            "type": "histogram"
           }
          ],
          "histogram2d": [
           {
            "colorbar": {
             "outlinewidth": 0,
             "ticks": ""
            },
            "colorscale": [
             [
              0,
              "#0d0887"
             ],
             [
              0.1111111111111111,
              "#46039f"
             ],
             [
              0.2222222222222222,
              "#7201a8"
             ],
             [
              0.3333333333333333,
              "#9c179e"
             ],
             [
              0.4444444444444444,
              "#bd3786"
             ],
             [
              0.5555555555555556,
              "#d8576b"
             ],
             [
              0.6666666666666666,
              "#ed7953"
             ],
             [
              0.7777777777777778,
              "#fb9f3a"
             ],
             [
              0.8888888888888888,
              "#fdca26"
             ],
             [
              1,
              "#f0f921"
             ]
            ],
            "type": "histogram2d"
           }
          ],
          "histogram2dcontour": [
           {
            "colorbar": {
             "outlinewidth": 0,
             "ticks": ""
            },
            "colorscale": [
             [
              0,
              "#0d0887"
             ],
             [
              0.1111111111111111,
              "#46039f"
             ],
             [
              0.2222222222222222,
              "#7201a8"
             ],
             [
              0.3333333333333333,
              "#9c179e"
             ],
             [
              0.4444444444444444,
              "#bd3786"
             ],
             [
              0.5555555555555556,
              "#d8576b"
             ],
             [
              0.6666666666666666,
              "#ed7953"
             ],
             [
              0.7777777777777778,
              "#fb9f3a"
             ],
             [
              0.8888888888888888,
              "#fdca26"
             ],
             [
              1,
              "#f0f921"
             ]
            ],
            "type": "histogram2dcontour"
           }
          ],
          "mesh3d": [
           {
            "colorbar": {
             "outlinewidth": 0,
             "ticks": ""
            },
            "type": "mesh3d"
           }
          ],
          "parcoords": [
           {
            "line": {
             "colorbar": {
              "outlinewidth": 0,
              "ticks": ""
             }
            },
            "type": "parcoords"
           }
          ],
          "pie": [
           {
            "automargin": true,
            "type": "pie"
           }
          ],
          "scatter": [
           {
            "fillpattern": {
             "fillmode": "overlay",
             "size": 10,
             "solidity": 0.2
            },
            "type": "scatter"
           }
          ],
          "scatter3d": [
           {
            "line": {
             "colorbar": {
              "outlinewidth": 0,
              "ticks": ""
             }
            },
            "marker": {
             "colorbar": {
              "outlinewidth": 0,
              "ticks": ""
             }
            },
            "type": "scatter3d"
           }
          ],
          "scattercarpet": [
           {
            "marker": {
             "colorbar": {
              "outlinewidth": 0,
              "ticks": ""
             }
            },
            "type": "scattercarpet"
           }
          ],
          "scattergeo": [
           {
            "marker": {
             "colorbar": {
              "outlinewidth": 0,
              "ticks": ""
             }
            },
            "type": "scattergeo"
           }
          ],
          "scattergl": [
           {
            "marker": {
             "colorbar": {
              "outlinewidth": 0,
              "ticks": ""
             }
            },
            "type": "scattergl"
           }
          ],
          "scattermap": [
           {
            "marker": {
             "colorbar": {
              "outlinewidth": 0,
              "ticks": ""
             }
            },
            "type": "scattermap"
           }
          ],
          "scattermapbox": [
           {
            "marker": {
             "colorbar": {
              "outlinewidth": 0,
              "ticks": ""
             }
            },
            "type": "scattermapbox"
           }
          ],
          "scatterpolar": [
           {
            "marker": {
             "colorbar": {
              "outlinewidth": 0,
              "ticks": ""
             }
            },
            "type": "scatterpolar"
           }
          ],
          "scatterpolargl": [
           {
            "marker": {
             "colorbar": {
              "outlinewidth": 0,
              "ticks": ""
             }
            },
            "type": "scatterpolargl"
           }
          ],
          "scatterternary": [
           {
            "marker": {
             "colorbar": {
              "outlinewidth": 0,
              "ticks": ""
             }
            },
            "type": "scatterternary"
           }
          ],
          "surface": [
           {
            "colorbar": {
             "outlinewidth": 0,
             "ticks": ""
            },
            "colorscale": [
             [
              0,
              "#0d0887"
             ],
             [
              0.1111111111111111,
              "#46039f"
             ],
             [
              0.2222222222222222,
              "#7201a8"
             ],
             [
              0.3333333333333333,
              "#9c179e"
             ],
             [
              0.4444444444444444,
              "#bd3786"
             ],
             [
              0.5555555555555556,
              "#d8576b"
             ],
             [
              0.6666666666666666,
              "#ed7953"
             ],
             [
              0.7777777777777778,
              "#fb9f3a"
             ],
             [
              0.8888888888888888,
              "#fdca26"
             ],
             [
              1,
              "#f0f921"
             ]
            ],
            "type": "surface"
           }
          ],
          "table": [
           {
            "cells": {
             "fill": {
              "color": "#EBF0F8"
             },
             "line": {
              "color": "white"
             }
            },
            "header": {
             "fill": {
              "color": "#C8D4E3"
             },
             "line": {
              "color": "white"
             }
            },
            "type": "table"
           }
          ]
         },
         "layout": {
          "annotationdefaults": {
           "arrowcolor": "#2a3f5f",
           "arrowhead": 0,
           "arrowwidth": 1
          },
          "autotypenumbers": "strict",
          "coloraxis": {
           "colorbar": {
            "outlinewidth": 0,
            "ticks": ""
           }
          },
          "colorscale": {
           "diverging": [
            [
             0,
             "#8e0152"
            ],
            [
             0.1,
             "#c51b7d"
            ],
            [
             0.2,
             "#de77ae"
            ],
            [
             0.3,
             "#f1b6da"
            ],
            [
             0.4,
             "#fde0ef"
            ],
            [
             0.5,
             "#f7f7f7"
            ],
            [
             0.6,
             "#e6f5d0"
            ],
            [
             0.7,
             "#b8e186"
            ],
            [
             0.8,
             "#7fbc41"
            ],
            [
             0.9,
             "#4d9221"
            ],
            [
             1,
             "#276419"
            ]
           ],
           "sequential": [
            [
             0,
             "#0d0887"
            ],
            [
             0.1111111111111111,
             "#46039f"
            ],
            [
             0.2222222222222222,
             "#7201a8"
            ],
            [
             0.3333333333333333,
             "#9c179e"
            ],
            [
             0.4444444444444444,
             "#bd3786"
            ],
            [
             0.5555555555555556,
             "#d8576b"
            ],
            [
             0.6666666666666666,
             "#ed7953"
            ],
            [
             0.7777777777777778,
             "#fb9f3a"
            ],
            [
             0.8888888888888888,
             "#fdca26"
            ],
            [
             1,
             "#f0f921"
            ]
           ],
           "sequentialminus": [
            [
             0,
             "#0d0887"
            ],
            [
             0.1111111111111111,
             "#46039f"
            ],
            [
             0.2222222222222222,
             "#7201a8"
            ],
            [
             0.3333333333333333,
             "#9c179e"
            ],
            [
             0.4444444444444444,
             "#bd3786"
            ],
            [
             0.5555555555555556,
             "#d8576b"
            ],
            [
             0.6666666666666666,
             "#ed7953"
            ],
            [
             0.7777777777777778,
             "#fb9f3a"
            ],
            [
             0.8888888888888888,
             "#fdca26"
            ],
            [
             1,
             "#f0f921"
            ]
           ]
          },
          "colorway": [
           "#636efa",
           "#EF553B",
           "#00cc96",
           "#ab63fa",
           "#FFA15A",
           "#19d3f3",
           "#FF6692",
           "#B6E880",
           "#FF97FF",
           "#FECB52"
          ],
          "font": {
           "color": "#2a3f5f"
          },
          "geo": {
           "bgcolor": "white",
           "lakecolor": "white",
           "landcolor": "#E5ECF6",
           "showlakes": true,
           "showland": true,
           "subunitcolor": "white"
          },
          "hoverlabel": {
           "align": "left"
          },
          "hovermode": "closest",
          "mapbox": {
           "style": "light"
          },
          "paper_bgcolor": "white",
          "plot_bgcolor": "#E5ECF6",
          "polar": {
           "angularaxis": {
            "gridcolor": "white",
            "linecolor": "white",
            "ticks": ""
           },
           "bgcolor": "#E5ECF6",
           "radialaxis": {
            "gridcolor": "white",
            "linecolor": "white",
            "ticks": ""
           }
          },
          "scene": {
           "xaxis": {
            "backgroundcolor": "#E5ECF6",
            "gridcolor": "white",
            "gridwidth": 2,
            "linecolor": "white",
            "showbackground": true,
            "ticks": "",
            "zerolinecolor": "white"
           },
           "yaxis": {
            "backgroundcolor": "#E5ECF6",
            "gridcolor": "white",
            "gridwidth": 2,
            "linecolor": "white",
            "showbackground": true,
            "ticks": "",
            "zerolinecolor": "white"
           },
           "zaxis": {
            "backgroundcolor": "#E5ECF6",
            "gridcolor": "white",
            "gridwidth": 2,
            "linecolor": "white",
            "showbackground": true,
            "ticks": "",
            "zerolinecolor": "white"
           }
          },
          "shapedefaults": {
           "line": {
            "color": "#2a3f5f"
           }
          },
          "ternary": {
           "aaxis": {
            "gridcolor": "white",
            "linecolor": "white",
            "ticks": ""
           },
           "baxis": {
            "gridcolor": "white",
            "linecolor": "white",
            "ticks": ""
           },
           "bgcolor": "#E5ECF6",
           "caxis": {
            "gridcolor": "white",
            "linecolor": "white",
            "ticks": ""
           }
          },
          "title": {
           "x": 0.05
          },
          "xaxis": {
           "automargin": true,
           "gridcolor": "white",
           "linecolor": "white",
           "ticks": "",
           "title": {
            "standoff": 15
           },
           "zerolinecolor": "white",
           "zerolinewidth": 2
          },
          "yaxis": {
           "automargin": true,
           "gridcolor": "white",
           "linecolor": "white",
           "ticks": "",
           "title": {
            "standoff": 15
           },
           "zerolinecolor": "white",
           "zerolinewidth": 2
          }
         }
        },
        "xaxis": {
         "anchor": "y",
         "domain": [
          0,
          1
         ],
         "title": {
          "text": "Pillar"
         }
        },
        "yaxis": {
         "anchor": "x",
         "domain": [
          0,
          1
         ],
         "title": {
          "text": "Score"
         }
        }
       }
      }
     },
     "metadata": {},
     "output_type": "display_data"
    }
   ],
   "source": [
    "import plotly.express as px\n",
    "import pandas as pd\n",
    "\n",
    "regions = [\"Nigeria\", \"Africa-BB-Maps Countries\", \"Europe\"]\n",
    "score_types = [\"regulatoryAuthorityScore\",\"regulatoryAuthorityScore\",\"regulatoryAuthorityScore\", \n",
    "               \"regulatoryMandateScore\", \"regulatoryMandateScore\",\"regulatoryMandateScore\", \n",
    "               \"regulatoryRegimeScore\", \"regulatoryRegimeScore\", \"regulatoryRegimeScore\", \n",
    "               \"competitionFrameworkScore\", \"competitionFrameworkScore\", \"competitionFrameworkScore\",\n",
    "               \"overallScore\",\"overallScore\",\"overallScore\"]\n",
    "\n",
    "colors = [\"#00a3e0\", \"#007cb9\", \"#33bdf2\", \"#66d6f8\", \"#b3ecfb\"]\n",
    "color_discrete_map = {\n",
    "    \"Nigeria\": \"#004479\",  # NCC Blue\n",
    "    \"Africa-BB-Maps Countries\": \"#00a3e0\",  # ITU Blue\n",
    "    \"Europe\": \"#c9c9c9\"  # Very Light Blue\n",
    "}\n",
    "\n",
    "\n",
    "regulatoryAuthorityScore = [africa_bb_maps[africa_bb_maps[\"country\"]==\"Nigeria\"][\"regulatoryAuthorityScore\"].values[0], africa_bb_maps[\"regulatoryAuthorityScore\"].mean(), europe_countries[\"regulatoryAuthorityScore\"].mean()]\n",
    "regulatoryMandateScore = [africa_bb_maps[africa_bb_maps[\"country\"]==\"Nigeria\"][\"regulatoryMandateScore\"].values[0], africa_bb_maps[\"regulatoryMandateScore\"].mean(), europe_countries[\"regulatoryMandateScore\"].mean()]\n",
    "regulatoryRegimeScore = [africa_bb_maps[africa_bb_maps[\"country\"]==\"Nigeria\"][\"regulatoryRegimeScore\"].values[0], africa_bb_maps[\"regulatoryRegimeScore\"].mean(), europe_countries[\"regulatoryRegimeScore\"].mean()]\n",
    "competitionFrameworkScore = [africa_bb_maps[africa_bb_maps[\"country\"]==\"Nigeria\"][\"competitionFrameworkScore\"].values[0], africa_bb_maps[\"competitionFrameworkScore\"].mean(), europe_countries[\"competitionFrameworkScore\"].mean()]\n",
    "overallScore = [africa_bb_maps[africa_bb_maps[\"country\"]==\"Nigeria\"][\"overallScore\"].values[0], africa_bb_maps[\"overallScore\"].mean(), europe_countries[\"overallScore\"].mean()]\n",
    "\n",
    "df = pd.DataFrame({\n",
    "    'Pillar': score_types,\n",
    "    'Score': regulatoryAuthorityScore + regulatoryMandateScore + regulatoryRegimeScore + competitionFrameworkScore + overallScore,\n",
    "    'Region' : regions * 5\n",
    "})\n",
    "\n",
    "# print(df)\n",
    "\n",
    "fig = px.bar(df, x='Pillar', y='Score', color='Region', barmode='group', color_discrete_map=color_discrete_map)\n",
    "fig.update_layout({\n",
    "\"plot_bgcolor\": \"rgba(0, 0, 0, 0)\",\n",
    "\"paper_bgcolor\": \"rgba(0, 0, 0, 0)\",\n",
    "})\n",
    "fig.show()"
   ]
  },
  {
   "cell_type": "code",
   "execution_count": 16,
   "id": "7abdaeeb",
   "metadata": {},
   "outputs": [
    {
     "data": {
      "application/vnd.plotly.v1+json": {
       "config": {
        "plotlyServerURL": "https://plot.ly"
       },
       "data": [
        {
         "marker": {
          "color": "#00a3e0"
         },
         "name": "Nigeria",
         "type": "bar",
         "x": [
          "regulatoryAuthorityScore",
          "regulatoryMandateScore",
          "regulatoryRegimeScore",
          "competitionFrameworkScore",
          "overallScore"
         ],
         "y": [
          19,
          16.727272727272727,
          17.282608695652176
         ]
        },
        {
         "marker": {
          "color": "#007cb9"
         },
         "name": "Africa-BB-Maps Countries",
         "type": "bar",
         "x": [
          "regulatoryAuthorityScore",
          "regulatoryMandateScore",
          "regulatoryRegimeScore",
          "competitionFrameworkScore",
          "overallScore"
         ],
         "y": [
          22,
          19.40909090909091,
          18.293478260869566
         ]
        },
        {
         "marker": {
          "color": "#33bdf2"
         },
         "name": "Europe",
         "type": "bar",
         "x": [
          "regulatoryAuthorityScore",
          "regulatoryMandateScore",
          "regulatoryRegimeScore",
          "competitionFrameworkScore",
          "overallScore"
         ],
         "y": [
          26,
          19.09090909090909,
          26.565217391304348
         ]
        }
       ],
       "layout": {
        "bargroupgap": 0.15,
        "barmode": "group",
        "legend": {
         "title": {
          "text": "Regions"
         }
        },
        "template": {
         "data": {
          "bar": [
           {
            "error_x": {
             "color": "#2a3f5f"
            },
            "error_y": {
             "color": "#2a3f5f"
            },
            "marker": {
             "line": {
              "color": "white",
              "width": 0.5
             },
             "pattern": {
              "fillmode": "overlay",
              "size": 10,
              "solidity": 0.2
             }
            },
            "type": "bar"
           }
          ],
          "barpolar": [
           {
            "marker": {
             "line": {
              "color": "white",
              "width": 0.5
             },
             "pattern": {
              "fillmode": "overlay",
              "size": 10,
              "solidity": 0.2
             }
            },
            "type": "barpolar"
           }
          ],
          "carpet": [
           {
            "aaxis": {
             "endlinecolor": "#2a3f5f",
             "gridcolor": "#C8D4E3",
             "linecolor": "#C8D4E3",
             "minorgridcolor": "#C8D4E3",
             "startlinecolor": "#2a3f5f"
            },
            "baxis": {
             "endlinecolor": "#2a3f5f",
             "gridcolor": "#C8D4E3",
             "linecolor": "#C8D4E3",
             "minorgridcolor": "#C8D4E3",
             "startlinecolor": "#2a3f5f"
            },
            "type": "carpet"
           }
          ],
          "choropleth": [
           {
            "colorbar": {
             "outlinewidth": 0,
             "ticks": ""
            },
            "type": "choropleth"
           }
          ],
          "contour": [
           {
            "colorbar": {
             "outlinewidth": 0,
             "ticks": ""
            },
            "colorscale": [
             [
              0,
              "#0d0887"
             ],
             [
              0.1111111111111111,
              "#46039f"
             ],
             [
              0.2222222222222222,
              "#7201a8"
             ],
             [
              0.3333333333333333,
              "#9c179e"
             ],
             [
              0.4444444444444444,
              "#bd3786"
             ],
             [
              0.5555555555555556,
              "#d8576b"
             ],
             [
              0.6666666666666666,
              "#ed7953"
             ],
             [
              0.7777777777777778,
              "#fb9f3a"
             ],
             [
              0.8888888888888888,
              "#fdca26"
             ],
             [
              1,
              "#f0f921"
             ]
            ],
            "type": "contour"
           }
          ],
          "contourcarpet": [
           {
            "colorbar": {
             "outlinewidth": 0,
             "ticks": ""
            },
            "type": "contourcarpet"
           }
          ],
          "heatmap": [
           {
            "colorbar": {
             "outlinewidth": 0,
             "ticks": ""
            },
            "colorscale": [
             [
              0,
              "#0d0887"
             ],
             [
              0.1111111111111111,
              "#46039f"
             ],
             [
              0.2222222222222222,
              "#7201a8"
             ],
             [
              0.3333333333333333,
              "#9c179e"
             ],
             [
              0.4444444444444444,
              "#bd3786"
             ],
             [
              0.5555555555555556,
              "#d8576b"
             ],
             [
              0.6666666666666666,
              "#ed7953"
             ],
             [
              0.7777777777777778,
              "#fb9f3a"
             ],
             [
              0.8888888888888888,
              "#fdca26"
             ],
             [
              1,
              "#f0f921"
             ]
            ],
            "type": "heatmap"
           }
          ],
          "histogram": [
           {
            "marker": {
             "pattern": {
              "fillmode": "overlay",
              "size": 10,
              "solidity": 0.2
             }
            },
            "type": "histogram"
           }
          ],
          "histogram2d": [
           {
            "colorbar": {
             "outlinewidth": 0,
             "ticks": ""
            },
            "colorscale": [
             [
              0,
              "#0d0887"
             ],
             [
              0.1111111111111111,
              "#46039f"
             ],
             [
              0.2222222222222222,
              "#7201a8"
             ],
             [
              0.3333333333333333,
              "#9c179e"
             ],
             [
              0.4444444444444444,
              "#bd3786"
             ],
             [
              0.5555555555555556,
              "#d8576b"
             ],
             [
              0.6666666666666666,
              "#ed7953"
             ],
             [
              0.7777777777777778,
              "#fb9f3a"
             ],
             [
              0.8888888888888888,
              "#fdca26"
             ],
             [
              1,
              "#f0f921"
             ]
            ],
            "type": "histogram2d"
           }
          ],
          "histogram2dcontour": [
           {
            "colorbar": {
             "outlinewidth": 0,
             "ticks": ""
            },
            "colorscale": [
             [
              0,
              "#0d0887"
             ],
             [
              0.1111111111111111,
              "#46039f"
             ],
             [
              0.2222222222222222,
              "#7201a8"
             ],
             [
              0.3333333333333333,
              "#9c179e"
             ],
             [
              0.4444444444444444,
              "#bd3786"
             ],
             [
              0.5555555555555556,
              "#d8576b"
             ],
             [
              0.6666666666666666,
              "#ed7953"
             ],
             [
              0.7777777777777778,
              "#fb9f3a"
             ],
             [
              0.8888888888888888,
              "#fdca26"
             ],
             [
              1,
              "#f0f921"
             ]
            ],
            "type": "histogram2dcontour"
           }
          ],
          "mesh3d": [
           {
            "colorbar": {
             "outlinewidth": 0,
             "ticks": ""
            },
            "type": "mesh3d"
           }
          ],
          "parcoords": [
           {
            "line": {
             "colorbar": {
              "outlinewidth": 0,
              "ticks": ""
             }
            },
            "type": "parcoords"
           }
          ],
          "pie": [
           {
            "automargin": true,
            "type": "pie"
           }
          ],
          "scatter": [
           {
            "fillpattern": {
             "fillmode": "overlay",
             "size": 10,
             "solidity": 0.2
            },
            "type": "scatter"
           }
          ],
          "scatter3d": [
           {
            "line": {
             "colorbar": {
              "outlinewidth": 0,
              "ticks": ""
             }
            },
            "marker": {
             "colorbar": {
              "outlinewidth": 0,
              "ticks": ""
             }
            },
            "type": "scatter3d"
           }
          ],
          "scattercarpet": [
           {
            "marker": {
             "colorbar": {
              "outlinewidth": 0,
              "ticks": ""
             }
            },
            "type": "scattercarpet"
           }
          ],
          "scattergeo": [
           {
            "marker": {
             "colorbar": {
              "outlinewidth": 0,
              "ticks": ""
             }
            },
            "type": "scattergeo"
           }
          ],
          "scattergl": [
           {
            "marker": {
             "colorbar": {
              "outlinewidth": 0,
              "ticks": ""
             }
            },
            "type": "scattergl"
           }
          ],
          "scattermap": [
           {
            "marker": {
             "colorbar": {
              "outlinewidth": 0,
              "ticks": ""
             }
            },
            "type": "scattermap"
           }
          ],
          "scattermapbox": [
           {
            "marker": {
             "colorbar": {
              "outlinewidth": 0,
              "ticks": ""
             }
            },
            "type": "scattermapbox"
           }
          ],
          "scatterpolar": [
           {
            "marker": {
             "colorbar": {
              "outlinewidth": 0,
              "ticks": ""
             }
            },
            "type": "scatterpolar"
           }
          ],
          "scatterpolargl": [
           {
            "marker": {
             "colorbar": {
              "outlinewidth": 0,
              "ticks": ""
             }
            },
            "type": "scatterpolargl"
           }
          ],
          "scatterternary": [
           {
            "marker": {
             "colorbar": {
              "outlinewidth": 0,
              "ticks": ""
             }
            },
            "type": "scatterternary"
           }
          ],
          "surface": [
           {
            "colorbar": {
             "outlinewidth": 0,
             "ticks": ""
            },
            "colorscale": [
             [
              0,
              "#0d0887"
             ],
             [
              0.1111111111111111,
              "#46039f"
             ],
             [
              0.2222222222222222,
              "#7201a8"
             ],
             [
              0.3333333333333333,
              "#9c179e"
             ],
             [
              0.4444444444444444,
              "#bd3786"
             ],
             [
              0.5555555555555556,
              "#d8576b"
             ],
             [
              0.6666666666666666,
              "#ed7953"
             ],
             [
              0.7777777777777778,
              "#fb9f3a"
             ],
             [
              0.8888888888888888,
              "#fdca26"
             ],
             [
              1,
              "#f0f921"
             ]
            ],
            "type": "surface"
           }
          ],
          "table": [
           {
            "cells": {
             "fill": {
              "color": "#EBF0F8"
             },
             "line": {
              "color": "white"
             }
            },
            "header": {
             "fill": {
              "color": "#C8D4E3"
             },
             "line": {
              "color": "white"
             }
            },
            "type": "table"
           }
          ]
         },
         "layout": {
          "annotationdefaults": {
           "arrowcolor": "#2a3f5f",
           "arrowhead": 0,
           "arrowwidth": 1
          },
          "autotypenumbers": "strict",
          "coloraxis": {
           "colorbar": {
            "outlinewidth": 0,
            "ticks": ""
           }
          },
          "colorscale": {
           "diverging": [
            [
             0,
             "#8e0152"
            ],
            [
             0.1,
             "#c51b7d"
            ],
            [
             0.2,
             "#de77ae"
            ],
            [
             0.3,
             "#f1b6da"
            ],
            [
             0.4,
             "#fde0ef"
            ],
            [
             0.5,
             "#f7f7f7"
            ],
            [
             0.6,
             "#e6f5d0"
            ],
            [
             0.7,
             "#b8e186"
            ],
            [
             0.8,
             "#7fbc41"
            ],
            [
             0.9,
             "#4d9221"
            ],
            [
             1,
             "#276419"
            ]
           ],
           "sequential": [
            [
             0,
             "#0d0887"
            ],
            [
             0.1111111111111111,
             "#46039f"
            ],
            [
             0.2222222222222222,
             "#7201a8"
            ],
            [
             0.3333333333333333,
             "#9c179e"
            ],
            [
             0.4444444444444444,
             "#bd3786"
            ],
            [
             0.5555555555555556,
             "#d8576b"
            ],
            [
             0.6666666666666666,
             "#ed7953"
            ],
            [
             0.7777777777777778,
             "#fb9f3a"
            ],
            [
             0.8888888888888888,
             "#fdca26"
            ],
            [
             1,
             "#f0f921"
            ]
           ],
           "sequentialminus": [
            [
             0,
             "#0d0887"
            ],
            [
             0.1111111111111111,
             "#46039f"
            ],
            [
             0.2222222222222222,
             "#7201a8"
            ],
            [
             0.3333333333333333,
             "#9c179e"
            ],
            [
             0.4444444444444444,
             "#bd3786"
            ],
            [
             0.5555555555555556,
             "#d8576b"
            ],
            [
             0.6666666666666666,
             "#ed7953"
            ],
            [
             0.7777777777777778,
             "#fb9f3a"
            ],
            [
             0.8888888888888888,
             "#fdca26"
            ],
            [
             1,
             "#f0f921"
            ]
           ]
          },
          "colorway": [
           "#636efa",
           "#EF553B",
           "#00cc96",
           "#ab63fa",
           "#FFA15A",
           "#19d3f3",
           "#FF6692",
           "#B6E880",
           "#FF97FF",
           "#FECB52"
          ],
          "font": {
           "color": "#2a3f5f"
          },
          "geo": {
           "bgcolor": "white",
           "lakecolor": "white",
           "landcolor": "white",
           "showlakes": true,
           "showland": true,
           "subunitcolor": "#C8D4E3"
          },
          "hoverlabel": {
           "align": "left"
          },
          "hovermode": "closest",
          "mapbox": {
           "style": "light"
          },
          "paper_bgcolor": "white",
          "plot_bgcolor": "white",
          "polar": {
           "angularaxis": {
            "gridcolor": "#EBF0F8",
            "linecolor": "#EBF0F8",
            "ticks": ""
           },
           "bgcolor": "white",
           "radialaxis": {
            "gridcolor": "#EBF0F8",
            "linecolor": "#EBF0F8",
            "ticks": ""
           }
          },
          "scene": {
           "xaxis": {
            "backgroundcolor": "white",
            "gridcolor": "#DFE8F3",
            "gridwidth": 2,
            "linecolor": "#EBF0F8",
            "showbackground": true,
            "ticks": "",
            "zerolinecolor": "#EBF0F8"
           },
           "yaxis": {
            "backgroundcolor": "white",
            "gridcolor": "#DFE8F3",
            "gridwidth": 2,
            "linecolor": "#EBF0F8",
            "showbackground": true,
            "ticks": "",
            "zerolinecolor": "#EBF0F8"
           },
           "zaxis": {
            "backgroundcolor": "white",
            "gridcolor": "#DFE8F3",
            "gridwidth": 2,
            "linecolor": "#EBF0F8",
            "showbackground": true,
            "ticks": "",
            "zerolinecolor": "#EBF0F8"
           }
          },
          "shapedefaults": {
           "line": {
            "color": "#2a3f5f"
           }
          },
          "ternary": {
           "aaxis": {
            "gridcolor": "#DFE8F3",
            "linecolor": "#A2B1C6",
            "ticks": ""
           },
           "baxis": {
            "gridcolor": "#DFE8F3",
            "linecolor": "#A2B1C6",
            "ticks": ""
           },
           "bgcolor": "white",
           "caxis": {
            "gridcolor": "#DFE8F3",
            "linecolor": "#A2B1C6",
            "ticks": ""
           }
          },
          "title": {
           "x": 0.05
          },
          "xaxis": {
           "automargin": true,
           "gridcolor": "#EBF0F8",
           "linecolor": "#EBF0F8",
           "ticks": "",
           "title": {
            "standoff": 15
           },
           "zerolinecolor": "#EBF0F8",
           "zerolinewidth": 2
          },
          "yaxis": {
           "automargin": true,
           "gridcolor": "#EBF0F8",
           "linecolor": "#EBF0F8",
           "ticks": "",
           "title": {
            "standoff": 15
           },
           "zerolinecolor": "#EBF0F8",
           "zerolinewidth": 2
          }
         }
        },
        "title": {
         "text": "ICT Regulatory Tracker - Average scores by pillar"
        },
        "xaxis": {
         "title": {
          "text": "Pillars"
         }
        },
        "yaxis": {
         "title": {
          "text": "Score"
         }
        }
       }
      }
     },
     "metadata": {},
     "output_type": "display_data"
    }
   ],
   "source": [
    "# Score in pillars of ICT Regulatory Tracker: Nigeria vs. Africa-BB-Maps vs. World\n",
    "import plotly.graph_objects as go\n",
    "\n",
    "regions = [\"Nigeria\", \"Africa-BB-Maps Countries\", \"Europe\"]\n",
    "score_types = [\"regulatoryAuthorityScore\", \"regulatoryMandateScore\", \"regulatoryRegimeScore\", \"competitionFrameworkScore\", \"overallScore\"]\n",
    "\n",
    "regulatoryAuthorityScore = [africa_bb_maps[africa_bb_maps[\"country\"]==\"Nigeria\"][\"regulatoryAuthorityScore\"].values[0], africa_bb_maps[\"regulatoryAuthorityScore\"].mean(), europe_countries[\"regulatoryAuthorityScore\"].mean()]\n",
    "regulatoryMandateScore = [africa_bb_maps[africa_bb_maps[\"country\"]==\"Nigeria\"][\"regulatoryMandateScore\"].values[0], africa_bb_maps[\"regulatoryMandateScore\"].mean(), europe_countries[\"regulatoryMandateScore\"].mean()]\n",
    "regulatoryRegimeScore = [africa_bb_maps[africa_bb_maps[\"country\"]==\"Nigeria\"][\"regulatoryRegimeScore\"].values[0], africa_bb_maps[\"regulatoryRegimeScore\"].mean(), europe_countries[\"regulatoryRegimeScore\"].mean()]\n",
    "competitionFrameworkScore = [africa_bb_maps[africa_bb_maps[\"country\"]==\"Nigeria\"][\"competitionFrameworkScore\"].values[0], africa_bb_maps[\"competitionFrameworkScore\"].mean(), europe_countries[\"competitionFrameworkScore\"].mean()]\n",
    "overallScore = [africa_bb_maps[africa_bb_maps[\"country\"]==\"Nigeria\"][\"overallScore\"].values[0], africa_bb_maps[\"overallScore\"].mean(), europe_countries[\"overallScore\"].mean()]\n",
    "\n",
    "# Custom ITU-blue-based colors\n",
    "colors = [\"#00a3e0\", \"#007cb9\", \"#33bdf2\", \"#66d6f8\", \"#b3ecfb\"]\n",
    "\n",
    "# # Create figure\n",
    "# fig = go.Figure(data=[\n",
    "#     go.Bar(name='Regulatory Authority Score', x=, y=regulatoryAuthorityScore, marker_color=colors[0]),\n",
    "#     go.Bar(name='Regulatory Mandate Score', x=score_types, y=regulatoryMandateScore, marker_color=colors[1]),\n",
    "#     go.Bar(name='Regulatory Regime Score', x=score_types, y=regulatoryRegimeScore, marker_color=colors[2]),\n",
    "#     go.Bar(name='Competition Framework Score', x=score_types, y=competitionFrameworkScore, marker_color=colors[3]),\n",
    "#     go.Bar(name='Overall Score', x=score_types, y=overallScore, marker_color=colors[4])\n",
    "# ])\n",
    "\n",
    "fig = go.Figure(data=[\n",
    "    go.Bar(name='Nigeria', x=score_types, y=regulatoryAuthorityScore, marker_color=colors[0]),\n",
    "    go.Bar(name='Africa-BB-Maps Countries', x=score_types, y=regulatoryMandateScore, marker_color=colors[1]),\n",
    "    go.Bar(name='Europe', x=score_types, y=regulatoryRegimeScore, marker_color=colors[2])\n",
    "])\n",
    "\n",
    "# # Update layout\n",
    "# fig.update_layout(\n",
    "#     barmode='group',\n",
    "#     title='G5 Benchmark - Regional improvement by pillar',\n",
    "#     xaxis_title='Region',\n",
    "#     yaxis_title='Improvement (%)',\n",
    "#     legend_title='Pillars',\n",
    "#     yaxis=dict(tickformat='%')\n",
    "# )\n",
    "\n",
    "# Update layout\n",
    "fig.update_layout(\n",
    "    barmode='group',\n",
    "    title='ICT Regulatory Tracker - Average scores by pillar',\n",
    "    xaxis_title='Pillars',\n",
    "    yaxis_title='Score',\n",
    "    legend_title='Regions',\n",
    "    #yaxis=dict(tickformat='%'),\n",
    "    template='plotly_white',\n",
    "    bargroupgap=0.15\n",
    ")\n",
    "\n",
    "# Show figure\n",
    "fig.show()\n"
   ]
  },
  {
   "cell_type": "markdown",
   "id": "7f9eea4a",
   "metadata": {},
   "source": [
    "# Progress bars"
   ]
  },
  {
   "cell_type": "code",
   "execution_count": 17,
   "id": "47420cdf",
   "metadata": {},
   "outputs": [],
   "source": [
    "## Load files\n",
    "import pandas as pd\n",
    "africa_bb_maps_2022 = pd.read_csv(\"data/ICT_regulatory_tracker_2022.csv\")\n",
    "europe_countries_2022 = pd.read_csv(\"data/ICT_regulatory_tracker_Europe_2022.csv\")"
   ]
  },
  {
   "cell_type": "code",
   "execution_count": 18,
   "id": "cfb8657c",
   "metadata": {},
   "outputs": [
    {
     "name": "stdout",
     "output_type": "stream",
     "text": [
      "                       Pillar  Progression (%)                    Region\n",
      "0    regulatoryAuthorityScore              0.0                   Nigeria\n",
      "1    regulatoryAuthorityScore              0.0  Africa-BB-Maps Countries\n",
      "2    regulatoryAuthorityScore              0.0                    Europe\n",
      "3      regulatoryMandateScore              0.0                   Nigeria\n",
      "4      regulatoryMandateScore              0.0  Africa-BB-Maps Countries\n",
      "5      regulatoryMandateScore              0.0                    Europe\n",
      "6       regulatoryRegimeScore              0.0                   Nigeria\n",
      "7       regulatoryRegimeScore              0.0  Africa-BB-Maps Countries\n",
      "8       regulatoryRegimeScore              0.0                    Europe\n",
      "9   competitionFrameworkScore              0.0                   Nigeria\n",
      "10  competitionFrameworkScore              0.0  Africa-BB-Maps Countries\n",
      "11  competitionFrameworkScore              0.0                    Europe\n",
      "12               overallScore              0.0                   Nigeria\n",
      "13               overallScore              0.0  Africa-BB-Maps Countries\n",
      "14               overallScore              0.0                    Europe\n"
     ]
    },
    {
     "data": {
      "application/vnd.plotly.v1+json": {
       "config": {
        "plotlyServerURL": "https://plot.ly"
       },
       "data": [
        {
         "alignmentgroup": "True",
         "hovertemplate": "Region=Nigeria<br>Pillar=%{x}<br>Progression (%)=%{y}<extra></extra>",
         "legendgroup": "Nigeria",
         "marker": {
          "color": "#0066CC",
          "pattern": {
           "shape": ""
          }
         },
         "name": "Nigeria",
         "offsetgroup": "Nigeria",
         "orientation": "v",
         "showlegend": true,
         "textposition": "auto",
         "type": "bar",
         "x": [
          "regulatoryAuthorityScore",
          "regulatoryMandateScore",
          "regulatoryRegimeScore",
          "competitionFrameworkScore",
          "overallScore"
         ],
         "xaxis": "x",
         "y": {
          "bdata": "AAAAAAAAAAAAAAAAAAAAAAAAAAAAAAAAAAAAAAAAAAAAAAAAAAAAAA==",
          "dtype": "f8"
         },
         "yaxis": "y"
        },
        {
         "alignmentgroup": "True",
         "hovertemplate": "Region=Africa-BB-Maps Countries<br>Pillar=%{x}<br>Progression (%)=%{y}<extra></extra>",
         "legendgroup": "Africa-BB-Maps Countries",
         "marker": {
          "color": "#3399FF",
          "pattern": {
           "shape": ""
          }
         },
         "name": "Africa-BB-Maps Countries",
         "offsetgroup": "Africa-BB-Maps Countries",
         "orientation": "v",
         "showlegend": true,
         "textposition": "auto",
         "type": "bar",
         "x": [
          "regulatoryAuthorityScore",
          "regulatoryMandateScore",
          "regulatoryRegimeScore",
          "competitionFrameworkScore",
          "overallScore"
         ],
         "xaxis": "x",
         "y": {
          "bdata": "AAAAAAAAAAAAAAAAAAAAAAAAAAAAAAAAAAAAAAAAAAAAAAAAAAAAAA==",
          "dtype": "f8"
         },
         "yaxis": "y"
        },
        {
         "alignmentgroup": "True",
         "hovertemplate": "Region=Europe<br>Pillar=%{x}<br>Progression (%)=%{y}<extra></extra>",
         "legendgroup": "Europe",
         "marker": {
          "color": "#0055AA",
          "pattern": {
           "shape": ""
          }
         },
         "name": "Europe",
         "offsetgroup": "Europe",
         "orientation": "v",
         "showlegend": true,
         "textposition": "auto",
         "type": "bar",
         "x": [
          "regulatoryAuthorityScore",
          "regulatoryMandateScore",
          "regulatoryRegimeScore",
          "competitionFrameworkScore",
          "overallScore"
         ],
         "xaxis": "x",
         "y": {
          "bdata": "AAAAAAAAAAAAAAAAAAAAAAAAAAAAAAAAAAAAAAAAAAAAAAAAAAAAAA==",
          "dtype": "f8"
         },
         "yaxis": "y"
        }
       ],
       "layout": {
        "barmode": "group",
        "legend": {
         "title": {
          "text": "Region"
         },
         "tracegroupgap": 0
        },
        "margin": {
         "t": 60
        },
        "template": {
         "data": {
          "bar": [
           {
            "error_x": {
             "color": "#2a3f5f"
            },
            "error_y": {
             "color": "#2a3f5f"
            },
            "marker": {
             "line": {
              "color": "#E5ECF6",
              "width": 0.5
             },
             "pattern": {
              "fillmode": "overlay",
              "size": 10,
              "solidity": 0.2
             }
            },
            "type": "bar"
           }
          ],
          "barpolar": [
           {
            "marker": {
             "line": {
              "color": "#E5ECF6",
              "width": 0.5
             },
             "pattern": {
              "fillmode": "overlay",
              "size": 10,
              "solidity": 0.2
             }
            },
            "type": "barpolar"
           }
          ],
          "carpet": [
           {
            "aaxis": {
             "endlinecolor": "#2a3f5f",
             "gridcolor": "white",
             "linecolor": "white",
             "minorgridcolor": "white",
             "startlinecolor": "#2a3f5f"
            },
            "baxis": {
             "endlinecolor": "#2a3f5f",
             "gridcolor": "white",
             "linecolor": "white",
             "minorgridcolor": "white",
             "startlinecolor": "#2a3f5f"
            },
            "type": "carpet"
           }
          ],
          "choropleth": [
           {
            "colorbar": {
             "outlinewidth": 0,
             "ticks": ""
            },
            "type": "choropleth"
           }
          ],
          "contour": [
           {
            "colorbar": {
             "outlinewidth": 0,
             "ticks": ""
            },
            "colorscale": [
             [
              0,
              "#0d0887"
             ],
             [
              0.1111111111111111,
              "#46039f"
             ],
             [
              0.2222222222222222,
              "#7201a8"
             ],
             [
              0.3333333333333333,
              "#9c179e"
             ],
             [
              0.4444444444444444,
              "#bd3786"
             ],
             [
              0.5555555555555556,
              "#d8576b"
             ],
             [
              0.6666666666666666,
              "#ed7953"
             ],
             [
              0.7777777777777778,
              "#fb9f3a"
             ],
             [
              0.8888888888888888,
              "#fdca26"
             ],
             [
              1,
              "#f0f921"
             ]
            ],
            "type": "contour"
           }
          ],
          "contourcarpet": [
           {
            "colorbar": {
             "outlinewidth": 0,
             "ticks": ""
            },
            "type": "contourcarpet"
           }
          ],
          "heatmap": [
           {
            "colorbar": {
             "outlinewidth": 0,
             "ticks": ""
            },
            "colorscale": [
             [
              0,
              "#0d0887"
             ],
             [
              0.1111111111111111,
              "#46039f"
             ],
             [
              0.2222222222222222,
              "#7201a8"
             ],
             [
              0.3333333333333333,
              "#9c179e"
             ],
             [
              0.4444444444444444,
              "#bd3786"
             ],
             [
              0.5555555555555556,
              "#d8576b"
             ],
             [
              0.6666666666666666,
              "#ed7953"
             ],
             [
              0.7777777777777778,
              "#fb9f3a"
             ],
             [
              0.8888888888888888,
              "#fdca26"
             ],
             [
              1,
              "#f0f921"
             ]
            ],
            "type": "heatmap"
           }
          ],
          "histogram": [
           {
            "marker": {
             "pattern": {
              "fillmode": "overlay",
              "size": 10,
              "solidity": 0.2
             }
            },
            "type": "histogram"
           }
          ],
          "histogram2d": [
           {
            "colorbar": {
             "outlinewidth": 0,
             "ticks": ""
            },
            "colorscale": [
             [
              0,
              "#0d0887"
             ],
             [
              0.1111111111111111,
              "#46039f"
             ],
             [
              0.2222222222222222,
              "#7201a8"
             ],
             [
              0.3333333333333333,
              "#9c179e"
             ],
             [
              0.4444444444444444,
              "#bd3786"
             ],
             [
              0.5555555555555556,
              "#d8576b"
             ],
             [
              0.6666666666666666,
              "#ed7953"
             ],
             [
              0.7777777777777778,
              "#fb9f3a"
             ],
             [
              0.8888888888888888,
              "#fdca26"
             ],
             [
              1,
              "#f0f921"
             ]
            ],
            "type": "histogram2d"
           }
          ],
          "histogram2dcontour": [
           {
            "colorbar": {
             "outlinewidth": 0,
             "ticks": ""
            },
            "colorscale": [
             [
              0,
              "#0d0887"
             ],
             [
              0.1111111111111111,
              "#46039f"
             ],
             [
              0.2222222222222222,
              "#7201a8"
             ],
             [
              0.3333333333333333,
              "#9c179e"
             ],
             [
              0.4444444444444444,
              "#bd3786"
             ],
             [
              0.5555555555555556,
              "#d8576b"
             ],
             [
              0.6666666666666666,
              "#ed7953"
             ],
             [
              0.7777777777777778,
              "#fb9f3a"
             ],
             [
              0.8888888888888888,
              "#fdca26"
             ],
             [
              1,
              "#f0f921"
             ]
            ],
            "type": "histogram2dcontour"
           }
          ],
          "mesh3d": [
           {
            "colorbar": {
             "outlinewidth": 0,
             "ticks": ""
            },
            "type": "mesh3d"
           }
          ],
          "parcoords": [
           {
            "line": {
             "colorbar": {
              "outlinewidth": 0,
              "ticks": ""
             }
            },
            "type": "parcoords"
           }
          ],
          "pie": [
           {
            "automargin": true,
            "type": "pie"
           }
          ],
          "scatter": [
           {
            "fillpattern": {
             "fillmode": "overlay",
             "size": 10,
             "solidity": 0.2
            },
            "type": "scatter"
           }
          ],
          "scatter3d": [
           {
            "line": {
             "colorbar": {
              "outlinewidth": 0,
              "ticks": ""
             }
            },
            "marker": {
             "colorbar": {
              "outlinewidth": 0,
              "ticks": ""
             }
            },
            "type": "scatter3d"
           }
          ],
          "scattercarpet": [
           {
            "marker": {
             "colorbar": {
              "outlinewidth": 0,
              "ticks": ""
             }
            },
            "type": "scattercarpet"
           }
          ],
          "scattergeo": [
           {
            "marker": {
             "colorbar": {
              "outlinewidth": 0,
              "ticks": ""
             }
            },
            "type": "scattergeo"
           }
          ],
          "scattergl": [
           {
            "marker": {
             "colorbar": {
              "outlinewidth": 0,
              "ticks": ""
             }
            },
            "type": "scattergl"
           }
          ],
          "scattermap": [
           {
            "marker": {
             "colorbar": {
              "outlinewidth": 0,
              "ticks": ""
             }
            },
            "type": "scattermap"
           }
          ],
          "scattermapbox": [
           {
            "marker": {
             "colorbar": {
              "outlinewidth": 0,
              "ticks": ""
             }
            },
            "type": "scattermapbox"
           }
          ],
          "scatterpolar": [
           {
            "marker": {
             "colorbar": {
              "outlinewidth": 0,
              "ticks": ""
             }
            },
            "type": "scatterpolar"
           }
          ],
          "scatterpolargl": [
           {
            "marker": {
             "colorbar": {
              "outlinewidth": 0,
              "ticks": ""
             }
            },
            "type": "scatterpolargl"
           }
          ],
          "scatterternary": [
           {
            "marker": {
             "colorbar": {
              "outlinewidth": 0,
              "ticks": ""
             }
            },
            "type": "scatterternary"
           }
          ],
          "surface": [
           {
            "colorbar": {
             "outlinewidth": 0,
             "ticks": ""
            },
            "colorscale": [
             [
              0,
              "#0d0887"
             ],
             [
              0.1111111111111111,
              "#46039f"
             ],
             [
              0.2222222222222222,
              "#7201a8"
             ],
             [
              0.3333333333333333,
              "#9c179e"
             ],
             [
              0.4444444444444444,
              "#bd3786"
             ],
             [
              0.5555555555555556,
              "#d8576b"
             ],
             [
              0.6666666666666666,
              "#ed7953"
             ],
             [
              0.7777777777777778,
              "#fb9f3a"
             ],
             [
              0.8888888888888888,
              "#fdca26"
             ],
             [
              1,
              "#f0f921"
             ]
            ],
            "type": "surface"
           }
          ],
          "table": [
           {
            "cells": {
             "fill": {
              "color": "#EBF0F8"
             },
             "line": {
              "color": "white"
             }
            },
            "header": {
             "fill": {
              "color": "#C8D4E3"
             },
             "line": {
              "color": "white"
             }
            },
            "type": "table"
           }
          ]
         },
         "layout": {
          "annotationdefaults": {
           "arrowcolor": "#2a3f5f",
           "arrowhead": 0,
           "arrowwidth": 1
          },
          "autotypenumbers": "strict",
          "coloraxis": {
           "colorbar": {
            "outlinewidth": 0,
            "ticks": ""
           }
          },
          "colorscale": {
           "diverging": [
            [
             0,
             "#8e0152"
            ],
            [
             0.1,
             "#c51b7d"
            ],
            [
             0.2,
             "#de77ae"
            ],
            [
             0.3,
             "#f1b6da"
            ],
            [
             0.4,
             "#fde0ef"
            ],
            [
             0.5,
             "#f7f7f7"
            ],
            [
             0.6,
             "#e6f5d0"
            ],
            [
             0.7,
             "#b8e186"
            ],
            [
             0.8,
             "#7fbc41"
            ],
            [
             0.9,
             "#4d9221"
            ],
            [
             1,
             "#276419"
            ]
           ],
           "sequential": [
            [
             0,
             "#0d0887"
            ],
            [
             0.1111111111111111,
             "#46039f"
            ],
            [
             0.2222222222222222,
             "#7201a8"
            ],
            [
             0.3333333333333333,
             "#9c179e"
            ],
            [
             0.4444444444444444,
             "#bd3786"
            ],
            [
             0.5555555555555556,
             "#d8576b"
            ],
            [
             0.6666666666666666,
             "#ed7953"
            ],
            [
             0.7777777777777778,
             "#fb9f3a"
            ],
            [
             0.8888888888888888,
             "#fdca26"
            ],
            [
             1,
             "#f0f921"
            ]
           ],
           "sequentialminus": [
            [
             0,
             "#0d0887"
            ],
            [
             0.1111111111111111,
             "#46039f"
            ],
            [
             0.2222222222222222,
             "#7201a8"
            ],
            [
             0.3333333333333333,
             "#9c179e"
            ],
            [
             0.4444444444444444,
             "#bd3786"
            ],
            [
             0.5555555555555556,
             "#d8576b"
            ],
            [
             0.6666666666666666,
             "#ed7953"
            ],
            [
             0.7777777777777778,
             "#fb9f3a"
            ],
            [
             0.8888888888888888,
             "#fdca26"
            ],
            [
             1,
             "#f0f921"
            ]
           ]
          },
          "colorway": [
           "#636efa",
           "#EF553B",
           "#00cc96",
           "#ab63fa",
           "#FFA15A",
           "#19d3f3",
           "#FF6692",
           "#B6E880",
           "#FF97FF",
           "#FECB52"
          ],
          "font": {
           "color": "#2a3f5f"
          },
          "geo": {
           "bgcolor": "white",
           "lakecolor": "white",
           "landcolor": "#E5ECF6",
           "showlakes": true,
           "showland": true,
           "subunitcolor": "white"
          },
          "hoverlabel": {
           "align": "left"
          },
          "hovermode": "closest",
          "mapbox": {
           "style": "light"
          },
          "paper_bgcolor": "white",
          "plot_bgcolor": "#E5ECF6",
          "polar": {
           "angularaxis": {
            "gridcolor": "white",
            "linecolor": "white",
            "ticks": ""
           },
           "bgcolor": "#E5ECF6",
           "radialaxis": {
            "gridcolor": "white",
            "linecolor": "white",
            "ticks": ""
           }
          },
          "scene": {
           "xaxis": {
            "backgroundcolor": "#E5ECF6",
            "gridcolor": "white",
            "gridwidth": 2,
            "linecolor": "white",
            "showbackground": true,
            "ticks": "",
            "zerolinecolor": "white"
           },
           "yaxis": {
            "backgroundcolor": "#E5ECF6",
            "gridcolor": "white",
            "gridwidth": 2,
            "linecolor": "white",
            "showbackground": true,
            "ticks": "",
            "zerolinecolor": "white"
           },
           "zaxis": {
            "backgroundcolor": "#E5ECF6",
            "gridcolor": "white",
            "gridwidth": 2,
            "linecolor": "white",
            "showbackground": true,
            "ticks": "",
            "zerolinecolor": "white"
           }
          },
          "shapedefaults": {
           "line": {
            "color": "#2a3f5f"
           }
          },
          "ternary": {
           "aaxis": {
            "gridcolor": "white",
            "linecolor": "white",
            "ticks": ""
           },
           "baxis": {
            "gridcolor": "white",
            "linecolor": "white",
            "ticks": ""
           },
           "bgcolor": "#E5ECF6",
           "caxis": {
            "gridcolor": "white",
            "linecolor": "white",
            "ticks": ""
           }
          },
          "title": {
           "x": 0.05
          },
          "xaxis": {
           "automargin": true,
           "gridcolor": "white",
           "linecolor": "white",
           "ticks": "",
           "title": {
            "standoff": 15
           },
           "zerolinecolor": "white",
           "zerolinewidth": 2
          },
          "yaxis": {
           "automargin": true,
           "gridcolor": "white",
           "linecolor": "white",
           "ticks": "",
           "title": {
            "standoff": 15
           },
           "zerolinecolor": "white",
           "zerolinewidth": 2
          }
         }
        },
        "xaxis": {
         "anchor": "y",
         "domain": [
          0,
          1
         ],
         "title": {
          "text": "Pillar"
         }
        },
        "yaxis": {
         "anchor": "x",
         "domain": [
          0,
          1
         ],
         "title": {
          "text": "Progression (%)"
         }
        }
       }
      }
     },
     "metadata": {},
     "output_type": "display_data"
    }
   ],
   "source": [
    "import plotly.express as px\n",
    "\n",
    "regions = [\"Nigeria\", \"Africa-BB-Maps Countries\", \"Europe\"]\n",
    "score_types = [\"regulatoryAuthorityScore\",\"regulatoryAuthorityScore\",\"regulatoryAuthorityScore\", \n",
    "               \"regulatoryMandateScore\", \"regulatoryMandateScore\",\"regulatoryMandateScore\", \n",
    "               \"regulatoryRegimeScore\", \"regulatoryRegimeScore\", \"regulatoryRegimeScore\", \n",
    "               \"competitionFrameworkScore\", \"competitionFrameworkScore\", \"competitionFrameworkScore\",\n",
    "               \"overallScore\",\"overallScore\",\"overallScore\"]\n",
    "\n",
    "regulatoryAuthorityScore = [(africa_bb_maps[africa_bb_maps[\"country\"]==\"Nigeria\"][\"regulatoryAuthorityScore\"].values[0] -africa_bb_maps_2022[africa_bb_maps_2022[\"country\"]==\"Nigeria\"][\"regulatoryAuthorityScore\"].values[0])/africa_bb_maps_2022[africa_bb_maps_2022[\"country\"]==\"Nigeria\"][\"regulatoryAuthorityScore\"].values[0], \n",
    "                            (africa_bb_maps[\"regulatoryAuthorityScore\"].mean() - africa_bb_maps_2022[\"regulatoryAuthorityScore\"].mean())/africa_bb_maps_2022[\"regulatoryAuthorityScore\"].mean(), \n",
    "                            (europe_countries[\"regulatoryAuthorityScore\"].mean() - europe_countries_2022[\"regulatoryAuthorityScore\"].mean())/europe_countries_2022[\"regulatoryAuthorityScore\"].mean()]\n",
    "\n",
    "regulatoryMandateScore = [(africa_bb_maps[africa_bb_maps[\"country\"]==\"Nigeria\"][\"regulatoryMandateScore\"].values[0] -africa_bb_maps_2022[africa_bb_maps_2022[\"country\"]==\"Nigeria\"][\"regulatoryMandateScore\"].values[0])/africa_bb_maps_2022[africa_bb_maps_2022[\"country\"]==\"Nigeria\"][\"regulatoryMandateScore\"].values[0], \n",
    "                            (africa_bb_maps[\"regulatoryMandateScore\"].mean() - africa_bb_maps_2022[\"regulatoryMandateScore\"].mean())/africa_bb_maps_2022[\"regulatoryMandateScore\"].mean(), \n",
    "                            (europe_countries[\"regulatoryMandateScore\"].mean() - europe_countries_2022[\"regulatoryMandateScore\"].mean())/europe_countries_2022[\"regulatoryMandateScore\"].mean()]\n",
    "\n",
    "regulatoryRegimeScore = [(africa_bb_maps[africa_bb_maps[\"country\"]==\"Nigeria\"][\"regulatoryRegimeScore\"].values[0] -africa_bb_maps_2022[africa_bb_maps_2022[\"country\"]==\"Nigeria\"][\"regulatoryRegimeScore\"].values[0])/africa_bb_maps_2022[africa_bb_maps_2022[\"country\"]==\"Nigeria\"][\"regulatoryRegimeScore\"].values[0], \n",
    "                            (africa_bb_maps[\"regulatoryRegimeScore\"].mean() - africa_bb_maps_2022[\"regulatoryRegimeScore\"].mean())/africa_bb_maps_2022[\"regulatoryRegimeScore\"].mean(), \n",
    "                            (europe_countries[\"regulatoryRegimeScore\"].mean() - europe_countries_2022[\"regulatoryRegimeScore\"].mean())/europe_countries_2022[\"regulatoryRegimeScore\"].mean()]\n",
    "\n",
    "competitionFrameworkScore = [(africa_bb_maps[africa_bb_maps[\"country\"]==\"Nigeria\"][\"competitionFrameworkScore\"].values[0] -africa_bb_maps_2022[africa_bb_maps_2022[\"country\"]==\"Nigeria\"][\"competitionFrameworkScore\"].values[0])/africa_bb_maps_2022[africa_bb_maps_2022[\"country\"]==\"Nigeria\"][\"competitionFrameworkScore\"].values[0], \n",
    "                            (africa_bb_maps[\"competitionFrameworkScore\"].mean() - africa_bb_maps_2022[\"competitionFrameworkScore\"].mean())/africa_bb_maps_2022[\"competitionFrameworkScore\"].mean(), \n",
    "                            (europe_countries[\"competitionFrameworkScore\"].mean() - europe_countries_2022[\"competitionFrameworkScore\"].mean())/europe_countries_2022[\"competitionFrameworkScore\"].mean()]\n",
    "\n",
    "overallScore = [(africa_bb_maps[africa_bb_maps[\"country\"]==\"Nigeria\"][\"overallScore\"].values[0] -africa_bb_maps_2022[africa_bb_maps_2022[\"country\"]==\"Nigeria\"][\"overallScore\"].values[0])/africa_bb_maps_2022[africa_bb_maps_2022[\"country\"]==\"Nigeria\"][\"overallScore\"].values[0], \n",
    "                            (africa_bb_maps[\"overallScore\"].mean() - africa_bb_maps_2022[\"overallScore\"].mean())/africa_bb_maps_2022[\"overallScore\"].mean(), \n",
    "                            (europe_countries[\"overallScore\"].mean() - europe_countries_2022[\"overallScore\"].mean())/europe_countries_2022[\"overallScore\"].mean()]\n",
    "\n",
    "color_discrete_map = {\n",
    "    \"Nigeria\": \"#0066CC\",  # ITU Blue\n",
    "    \"Africa-BB-Maps Countries\": \"#3399FF\",  # Lighter blue\n",
    "    \"Europe\": \"#0055AA\"  # Slight variation\n",
    "}\n",
    "\n",
    "\n",
    "df = pd.DataFrame({\n",
    "    'Pillar': score_types,\n",
    "    'Progression (%)': regulatoryAuthorityScore + regulatoryMandateScore + regulatoryRegimeScore + competitionFrameworkScore + overallScore,\n",
    "    'Region' : regions * 5\n",
    "})\n",
    "\n",
    "print(df)\n",
    "\n",
    "fig = px.bar(df, x='Pillar', y='Progression (%)', color='Region', barmode='group', color_discrete_map=color_discrete_map)\n",
    "fig.show()"
   ]
  },
  {
   "cell_type": "markdown",
   "id": "19f2476d",
   "metadata": {},
   "source": [
    "data in 2020 and 2022 do not change for the following countries:\n",
    "- Burundi\n",
    "- Nigeria\n",
    "- Zimbabwe"
   ]
  },
  {
   "cell_type": "code",
   "execution_count": 19,
   "id": "917cc7f7",
   "metadata": {},
   "outputs": [
    {
     "data": {
      "text/html": [
       "<div>\n",
       "<style scoped>\n",
       "    .dataframe tbody tr th:only-of-type {\n",
       "        vertical-align: middle;\n",
       "    }\n",
       "\n",
       "    .dataframe tbody tr th {\n",
       "        vertical-align: top;\n",
       "    }\n",
       "\n",
       "    .dataframe thead th {\n",
       "        text-align: right;\n",
       "    }\n",
       "</style>\n",
       "<table border=\"1\" class=\"dataframe\">\n",
       "  <thead>\n",
       "    <tr style=\"text-align: right;\">\n",
       "      <th></th>\n",
       "      <th>year</th>\n",
       "      <th>region</th>\n",
       "      <th>country</th>\n",
       "      <th>regulatoryAuthorityScore</th>\n",
       "      <th>regulatoryMandateScore</th>\n",
       "      <th>regulatoryRegimeScore</th>\n",
       "      <th>competitionFrameworkScore</th>\n",
       "      <th>overallScore</th>\n",
       "      <th>generation</th>\n",
       "      <th>Separate telecom/ICT regulator_value</th>\n",
       "      <th>...</th>\n",
       "      <th>Consumer issues: entity responsible for comparative tariff information, consumer education and handling consumer complaints_desc</th>\n",
       "      <th>Operators required to publish Reference Interconnection Offer (RIO)_desc</th>\n",
       "      <th>Quality of service monitoring required_desc</th>\n",
       "      <th>Infrastructure sharing for mobile operators permitted_desc</th>\n",
       "      <th>Infrastructure sharing mandated_desc</th>\n",
       "      <th>Co-location/site sharing mandated_desc</th>\n",
       "      <th>Unbundled access to the local loop required_desc</th>\n",
       "      <th>National plan that involves broadband_desc</th>\n",
       "      <th>Level of competition in IMT (3G, 4G, etc.) services_desc</th>\n",
       "      <th>Level of competition in cable modem, DSL, fixed wireless broadband_desc</th>\n",
       "    </tr>\n",
       "  </thead>\n",
       "  <tbody>\n",
       "    <tr>\n",
       "      <th>0</th>\n",
       "      <td>True</td>\n",
       "      <td>True</td>\n",
       "      <td>True</td>\n",
       "      <td>True</td>\n",
       "      <td>True</td>\n",
       "      <td>True</td>\n",
       "      <td>True</td>\n",
       "      <td>True</td>\n",
       "      <td>True</td>\n",
       "      <td>True</td>\n",
       "      <td>...</td>\n",
       "      <td>True</td>\n",
       "      <td>False</td>\n",
       "      <td>True</td>\n",
       "      <td>True</td>\n",
       "      <td>True</td>\n",
       "      <td>True</td>\n",
       "      <td>True</td>\n",
       "      <td>True</td>\n",
       "      <td>True</td>\n",
       "      <td>True</td>\n",
       "    </tr>\n",
       "    <tr>\n",
       "      <th>1</th>\n",
       "      <td>True</td>\n",
       "      <td>True</td>\n",
       "      <td>True</td>\n",
       "      <td>True</td>\n",
       "      <td>True</td>\n",
       "      <td>True</td>\n",
       "      <td>True</td>\n",
       "      <td>True</td>\n",
       "      <td>True</td>\n",
       "      <td>True</td>\n",
       "      <td>...</td>\n",
       "      <td>True</td>\n",
       "      <td>False</td>\n",
       "      <td>True</td>\n",
       "      <td>True</td>\n",
       "      <td>True</td>\n",
       "      <td>True</td>\n",
       "      <td>True</td>\n",
       "      <td>True</td>\n",
       "      <td>True</td>\n",
       "      <td>True</td>\n",
       "    </tr>\n",
       "    <tr>\n",
       "      <th>2</th>\n",
       "      <td>True</td>\n",
       "      <td>True</td>\n",
       "      <td>True</td>\n",
       "      <td>True</td>\n",
       "      <td>True</td>\n",
       "      <td>True</td>\n",
       "      <td>True</td>\n",
       "      <td>True</td>\n",
       "      <td>True</td>\n",
       "      <td>True</td>\n",
       "      <td>...</td>\n",
       "      <td>True</td>\n",
       "      <td>False</td>\n",
       "      <td>True</td>\n",
       "      <td>True</td>\n",
       "      <td>True</td>\n",
       "      <td>True</td>\n",
       "      <td>True</td>\n",
       "      <td>True</td>\n",
       "      <td>True</td>\n",
       "      <td>True</td>\n",
       "    </tr>\n",
       "    <tr>\n",
       "      <th>3</th>\n",
       "      <td>True</td>\n",
       "      <td>True</td>\n",
       "      <td>True</td>\n",
       "      <td>True</td>\n",
       "      <td>True</td>\n",
       "      <td>True</td>\n",
       "      <td>True</td>\n",
       "      <td>True</td>\n",
       "      <td>True</td>\n",
       "      <td>True</td>\n",
       "      <td>...</td>\n",
       "      <td>True</td>\n",
       "      <td>False</td>\n",
       "      <td>True</td>\n",
       "      <td>True</td>\n",
       "      <td>True</td>\n",
       "      <td>True</td>\n",
       "      <td>True</td>\n",
       "      <td>True</td>\n",
       "      <td>True</td>\n",
       "      <td>True</td>\n",
       "    </tr>\n",
       "    <tr>\n",
       "      <th>4</th>\n",
       "      <td>True</td>\n",
       "      <td>True</td>\n",
       "      <td>True</td>\n",
       "      <td>True</td>\n",
       "      <td>True</td>\n",
       "      <td>True</td>\n",
       "      <td>True</td>\n",
       "      <td>True</td>\n",
       "      <td>True</td>\n",
       "      <td>True</td>\n",
       "      <td>...</td>\n",
       "      <td>True</td>\n",
       "      <td>False</td>\n",
       "      <td>True</td>\n",
       "      <td>True</td>\n",
       "      <td>True</td>\n",
       "      <td>True</td>\n",
       "      <td>True</td>\n",
       "      <td>True</td>\n",
       "      <td>True</td>\n",
       "      <td>True</td>\n",
       "    </tr>\n",
       "    <tr>\n",
       "      <th>5</th>\n",
       "      <td>True</td>\n",
       "      <td>True</td>\n",
       "      <td>True</td>\n",
       "      <td>True</td>\n",
       "      <td>True</td>\n",
       "      <td>True</td>\n",
       "      <td>True</td>\n",
       "      <td>True</td>\n",
       "      <td>True</td>\n",
       "      <td>True</td>\n",
       "      <td>...</td>\n",
       "      <td>True</td>\n",
       "      <td>False</td>\n",
       "      <td>True</td>\n",
       "      <td>True</td>\n",
       "      <td>True</td>\n",
       "      <td>True</td>\n",
       "      <td>True</td>\n",
       "      <td>True</td>\n",
       "      <td>True</td>\n",
       "      <td>True</td>\n",
       "    </tr>\n",
       "    <tr>\n",
       "      <th>6</th>\n",
       "      <td>True</td>\n",
       "      <td>True</td>\n",
       "      <td>True</td>\n",
       "      <td>True</td>\n",
       "      <td>True</td>\n",
       "      <td>True</td>\n",
       "      <td>True</td>\n",
       "      <td>True</td>\n",
       "      <td>True</td>\n",
       "      <td>True</td>\n",
       "      <td>...</td>\n",
       "      <td>True</td>\n",
       "      <td>False</td>\n",
       "      <td>True</td>\n",
       "      <td>True</td>\n",
       "      <td>True</td>\n",
       "      <td>True</td>\n",
       "      <td>True</td>\n",
       "      <td>True</td>\n",
       "      <td>True</td>\n",
       "      <td>True</td>\n",
       "    </tr>\n",
       "    <tr>\n",
       "      <th>7</th>\n",
       "      <td>True</td>\n",
       "      <td>True</td>\n",
       "      <td>True</td>\n",
       "      <td>True</td>\n",
       "      <td>True</td>\n",
       "      <td>True</td>\n",
       "      <td>True</td>\n",
       "      <td>True</td>\n",
       "      <td>True</td>\n",
       "      <td>True</td>\n",
       "      <td>...</td>\n",
       "      <td>True</td>\n",
       "      <td>False</td>\n",
       "      <td>True</td>\n",
       "      <td>True</td>\n",
       "      <td>True</td>\n",
       "      <td>True</td>\n",
       "      <td>True</td>\n",
       "      <td>True</td>\n",
       "      <td>True</td>\n",
       "      <td>True</td>\n",
       "    </tr>\n",
       "    <tr>\n",
       "      <th>8</th>\n",
       "      <td>True</td>\n",
       "      <td>True</td>\n",
       "      <td>True</td>\n",
       "      <td>True</td>\n",
       "      <td>True</td>\n",
       "      <td>True</td>\n",
       "      <td>True</td>\n",
       "      <td>True</td>\n",
       "      <td>True</td>\n",
       "      <td>True</td>\n",
       "      <td>...</td>\n",
       "      <td>True</td>\n",
       "      <td>False</td>\n",
       "      <td>True</td>\n",
       "      <td>True</td>\n",
       "      <td>True</td>\n",
       "      <td>True</td>\n",
       "      <td>True</td>\n",
       "      <td>True</td>\n",
       "      <td>True</td>\n",
       "      <td>True</td>\n",
       "    </tr>\n",
       "    <tr>\n",
       "      <th>9</th>\n",
       "      <td>True</td>\n",
       "      <td>True</td>\n",
       "      <td>True</td>\n",
       "      <td>True</td>\n",
       "      <td>True</td>\n",
       "      <td>True</td>\n",
       "      <td>True</td>\n",
       "      <td>True</td>\n",
       "      <td>True</td>\n",
       "      <td>True</td>\n",
       "      <td>...</td>\n",
       "      <td>True</td>\n",
       "      <td>False</td>\n",
       "      <td>True</td>\n",
       "      <td>True</td>\n",
       "      <td>True</td>\n",
       "      <td>True</td>\n",
       "      <td>True</td>\n",
       "      <td>True</td>\n",
       "      <td>True</td>\n",
       "      <td>True</td>\n",
       "    </tr>\n",
       "    <tr>\n",
       "      <th>10</th>\n",
       "      <td>True</td>\n",
       "      <td>True</td>\n",
       "      <td>True</td>\n",
       "      <td>True</td>\n",
       "      <td>True</td>\n",
       "      <td>True</td>\n",
       "      <td>True</td>\n",
       "      <td>True</td>\n",
       "      <td>True</td>\n",
       "      <td>True</td>\n",
       "      <td>...</td>\n",
       "      <td>True</td>\n",
       "      <td>False</td>\n",
       "      <td>True</td>\n",
       "      <td>True</td>\n",
       "      <td>True</td>\n",
       "      <td>True</td>\n",
       "      <td>True</td>\n",
       "      <td>True</td>\n",
       "      <td>True</td>\n",
       "      <td>True</td>\n",
       "    </tr>\n",
       "  </tbody>\n",
       "</table>\n",
       "<p>11 rows × 43 columns</p>\n",
       "</div>"
      ],
      "text/plain": [
       "    year  region  country  regulatoryAuthorityScore  regulatoryMandateScore  \\\n",
       "0   True    True     True                      True                    True   \n",
       "1   True    True     True                      True                    True   \n",
       "2   True    True     True                      True                    True   \n",
       "3   True    True     True                      True                    True   \n",
       "4   True    True     True                      True                    True   \n",
       "5   True    True     True                      True                    True   \n",
       "6   True    True     True                      True                    True   \n",
       "7   True    True     True                      True                    True   \n",
       "8   True    True     True                      True                    True   \n",
       "9   True    True     True                      True                    True   \n",
       "10  True    True     True                      True                    True   \n",
       "\n",
       "    regulatoryRegimeScore  competitionFrameworkScore  overallScore  \\\n",
       "0                    True                       True          True   \n",
       "1                    True                       True          True   \n",
       "2                    True                       True          True   \n",
       "3                    True                       True          True   \n",
       "4                    True                       True          True   \n",
       "5                    True                       True          True   \n",
       "6                    True                       True          True   \n",
       "7                    True                       True          True   \n",
       "8                    True                       True          True   \n",
       "9                    True                       True          True   \n",
       "10                   True                       True          True   \n",
       "\n",
       "    generation  Separate telecom/ICT regulator_value  ...  \\\n",
       "0         True                                  True  ...   \n",
       "1         True                                  True  ...   \n",
       "2         True                                  True  ...   \n",
       "3         True                                  True  ...   \n",
       "4         True                                  True  ...   \n",
       "5         True                                  True  ...   \n",
       "6         True                                  True  ...   \n",
       "7         True                                  True  ...   \n",
       "8         True                                  True  ...   \n",
       "9         True                                  True  ...   \n",
       "10        True                                  True  ...   \n",
       "\n",
       "    Consumer issues: entity responsible for comparative tariff information, consumer education and handling consumer complaints_desc  \\\n",
       "0                                                True                                                                                  \n",
       "1                                                True                                                                                  \n",
       "2                                                True                                                                                  \n",
       "3                                                True                                                                                  \n",
       "4                                                True                                                                                  \n",
       "5                                                True                                                                                  \n",
       "6                                                True                                                                                  \n",
       "7                                                True                                                                                  \n",
       "8                                                True                                                                                  \n",
       "9                                                True                                                                                  \n",
       "10                                               True                                                                                  \n",
       "\n",
       "    Operators required to publish Reference Interconnection Offer (RIO)_desc  \\\n",
       "0                                               False                          \n",
       "1                                               False                          \n",
       "2                                               False                          \n",
       "3                                               False                          \n",
       "4                                               False                          \n",
       "5                                               False                          \n",
       "6                                               False                          \n",
       "7                                               False                          \n",
       "8                                               False                          \n",
       "9                                               False                          \n",
       "10                                              False                          \n",
       "\n",
       "    Quality of service monitoring required_desc  \\\n",
       "0                                          True   \n",
       "1                                          True   \n",
       "2                                          True   \n",
       "3                                          True   \n",
       "4                                          True   \n",
       "5                                          True   \n",
       "6                                          True   \n",
       "7                                          True   \n",
       "8                                          True   \n",
       "9                                          True   \n",
       "10                                         True   \n",
       "\n",
       "    Infrastructure sharing for mobile operators permitted_desc  \\\n",
       "0                                                True            \n",
       "1                                                True            \n",
       "2                                                True            \n",
       "3                                                True            \n",
       "4                                                True            \n",
       "5                                                True            \n",
       "6                                                True            \n",
       "7                                                True            \n",
       "8                                                True            \n",
       "9                                                True            \n",
       "10                                               True            \n",
       "\n",
       "    Infrastructure sharing mandated_desc  \\\n",
       "0                                   True   \n",
       "1                                   True   \n",
       "2                                   True   \n",
       "3                                   True   \n",
       "4                                   True   \n",
       "5                                   True   \n",
       "6                                   True   \n",
       "7                                   True   \n",
       "8                                   True   \n",
       "9                                   True   \n",
       "10                                  True   \n",
       "\n",
       "    Co-location/site sharing mandated_desc  \\\n",
       "0                                     True   \n",
       "1                                     True   \n",
       "2                                     True   \n",
       "3                                     True   \n",
       "4                                     True   \n",
       "5                                     True   \n",
       "6                                     True   \n",
       "7                                     True   \n",
       "8                                     True   \n",
       "9                                     True   \n",
       "10                                    True   \n",
       "\n",
       "    Unbundled access to the local loop required_desc  \\\n",
       "0                                               True   \n",
       "1                                               True   \n",
       "2                                               True   \n",
       "3                                               True   \n",
       "4                                               True   \n",
       "5                                               True   \n",
       "6                                               True   \n",
       "7                                               True   \n",
       "8                                               True   \n",
       "9                                               True   \n",
       "10                                              True   \n",
       "\n",
       "    National plan that involves broadband_desc  \\\n",
       "0                                         True   \n",
       "1                                         True   \n",
       "2                                         True   \n",
       "3                                         True   \n",
       "4                                         True   \n",
       "5                                         True   \n",
       "6                                         True   \n",
       "7                                         True   \n",
       "8                                         True   \n",
       "9                                         True   \n",
       "10                                        True   \n",
       "\n",
       "    Level of competition in IMT (3G, 4G, etc.) services_desc  \\\n",
       "0                                                True          \n",
       "1                                                True          \n",
       "2                                                True          \n",
       "3                                                True          \n",
       "4                                                True          \n",
       "5                                                True          \n",
       "6                                                True          \n",
       "7                                                True          \n",
       "8                                                True          \n",
       "9                                                True          \n",
       "10                                               True          \n",
       "\n",
       "    Level of competition in cable modem, DSL, fixed wireless broadband_desc  \n",
       "0                                                True                        \n",
       "1                                                True                        \n",
       "2                                                True                        \n",
       "3                                                True                        \n",
       "4                                                True                        \n",
       "5                                                True                        \n",
       "6                                                True                        \n",
       "7                                                True                        \n",
       "8                                                True                        \n",
       "9                                                True                        \n",
       "10                                               True                        \n",
       "\n",
       "[11 rows x 43 columns]"
      ]
     },
     "execution_count": 19,
     "metadata": {},
     "output_type": "execute_result"
    }
   ],
   "source": [
    "africa_bb_maps_2022.eq(africa_bb_maps) #oops its the same between 2020 and 2024 for Nigeria (and also for Zimbabwe and Burundi)"
   ]
  },
  {
   "cell_type": "code",
   "execution_count": null,
   "id": "67177a8c",
   "metadata": {},
   "outputs": [],
   "source": []
  }
 ],
 "metadata": {
  "kernelspec": {
   "display_name": "ITU",
   "language": "python",
   "name": "python3"
  },
  "language_info": {
   "codemirror_mode": {
    "name": "ipython",
    "version": 3
   },
   "file_extension": ".py",
   "mimetype": "text/x-python",
   "name": "python",
   "nbconvert_exporter": "python",
   "pygments_lexer": "ipython3",
   "version": "3.13.3"
  }
 },
 "nbformat": 4,
 "nbformat_minor": 5
}
